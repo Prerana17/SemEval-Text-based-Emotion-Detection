{
 "cells": [
  {
   "cell_type": "markdown",
   "metadata": {
    "id": "cwlX6_lx0ZPW"
   },
   "source": [
    "# Introduction (SemEval Project)"
   ]
  },
  {
   "cell_type": "markdown",
   "metadata": {
    "id": "g7VyZnHs1jQx"
   },
   "source": [
    "* The task is to predict the perceived emotion(s) of a speaker based on a given text snippet. Specifically, I aim to identify whether any of the following emotions apply: joy, sadness, fear, anger, surprise, or disgust.\n",
    "\n",
    "* This task is focusing on multi-label classification of text. Emotion recognition goes beyond identifying the emotion of the text itself, aiming to infer what the speaker is truly feeling.\n",
    "\n",
    "In this project, I will:\n",
    "\n",
    "* Download and preprocess the dataset, which requires signing up to the Codabench platform, as the dataset is not public.\n",
    "* Explore the dataset, which is available in multiple languages, to decide whether to work with a single language or build a multilingual model.\n",
    "* Experiment with BERT and its variants (RoBERTa, ALBERT, etc.), adapting them to output class labels by adding a classification head.\n",
    "* Evaluate model performance using the F-score, the competition's metric, and propose an additional metric comparing model predictions against human performance.\n",
    "* Conduct explainability analysis using SHAP to better understand the model's predictions."
   ]
  },
  {
   "cell_type": "code",
   "execution_count": 55,
   "metadata": {
    "id": "goWq8BxK0ZPX",
    "outputId": "618d0bc2-7103-4f05-cb24-336817580b3b"
   },
   "outputs": [
    {
     "name": "stdout",
     "output_type": "stream",
     "text": [
      "Requirement already satisfied: emoji in c:\\python312\\lib\\site-packages (2.14.0)Note: you may need to restart the kernel to use updated packages.\n",
      "\n"
     ]
    },
    {
     "name": "stderr",
     "output_type": "stream",
     "text": [
      "\n",
      "[notice] A new release of pip is available: 24.0 -> 24.3.1\n",
      "[notice] To update, run: python.exe -m pip install --upgrade pip\n"
     ]
    },
    {
     "name": "stdout",
     "output_type": "stream",
     "text": [
      "Requirement already satisfied: contractions in c:\\python312\\lib\\site-packages (0.1.73)Note: you may need to restart the kernel to use updated packages.\n",
      "\n",
      "Requirement already satisfied: textsearch>=0.0.21 in c:\\python312\\lib\\site-packages (from contractions) (0.0.24)\n",
      "Requirement already satisfied: anyascii in c:\\python312\\lib\\site-packages (from textsearch>=0.0.21->contractions) (0.3.2)\n",
      "Requirement already satisfied: pyahocorasick in c:\\python312\\lib\\site-packages (from textsearch>=0.0.21->contractions) (2.1.0)\n"
     ]
    },
    {
     "name": "stderr",
     "output_type": "stream",
     "text": [
      "\n",
      "[notice] A new release of pip is available: 24.0 -> 24.3.1\n",
      "[notice] To update, run: python.exe -m pip install --upgrade pip\n"
     ]
    },
    {
     "name": "stdout",
     "output_type": "stream",
     "text": [
      "Requirement already satisfied: seaborn in c:\\python312\\lib\\site-packages (0.13.2)\n",
      "Requirement already satisfied: numpy!=1.24.0,>=1.20 in c:\\users\\prerana\\appdata\\roaming\\python\\python312\\site-packages (from seaborn) (2.1.0)\n",
      "Requirement already satisfied: pandas>=1.2 in c:\\users\\prerana\\appdata\\roaming\\python\\python312\\site-packages (from seaborn) (2.2.2)\n",
      "Requirement already satisfied: matplotlib!=3.6.1,>=3.4 in c:\\python312\\lib\\site-packages (from seaborn) (3.9.4)\n",
      "Requirement already satisfied: contourpy>=1.0.1 in c:\\python312\\lib\\site-packages (from matplotlib!=3.6.1,>=3.4->seaborn) (1.3.1)\n",
      "Requirement already satisfied: cycler>=0.10 in c:\\python312\\lib\\site-packages (from matplotlib!=3.6.1,>=3.4->seaborn) (0.12.1)\n",
      "Requirement already satisfied: fonttools>=4.22.0 in c:\\python312\\lib\\site-packages (from matplotlib!=3.6.1,>=3.4->seaborn) (4.55.3)\n",
      "Requirement already satisfied: kiwisolver>=1.3.1 in c:\\python312\\lib\\site-packages (from matplotlib!=3.6.1,>=3.4->seaborn) (1.4.7)\n",
      "Requirement already satisfied: packaging>=20.0 in c:\\users\\prerana\\appdata\\roaming\\python\\python312\\site-packages (from matplotlib!=3.6.1,>=3.4->seaborn) (24.2)\n",
      "Requirement already satisfied: pillow>=8 in c:\\python312\\lib\\site-packages (from matplotlib!=3.6.1,>=3.4->seaborn) (11.0.0)\n",
      "Requirement already satisfied: pyparsing>=2.3.1 in c:\\python312\\lib\\site-packages (from matplotlib!=3.6.1,>=3.4->seaborn) (3.2.0)\n",
      "Requirement already satisfied: python-dateutil>=2.7 in c:\\users\\prerana\\appdata\\roaming\\python\\python312\\site-packages (from matplotlib!=3.6.1,>=3.4->seaborn) (2.9.0.post0)\n",
      "Requirement already satisfied: pytz>=2020.1 in c:\\python312\\lib\\site-packages (from pandas>=1.2->seaborn) (2024.1)\n",
      "Requirement already satisfied: tzdata>=2022.7 in c:\\users\\prerana\\appdata\\roaming\\python\\python312\\site-packages (from pandas>=1.2->seaborn) (2024.1)\n",
      "Requirement already satisfied: six>=1.5 in c:\\users\\prerana\\appdata\\roaming\\python\\python312\\site-packages (from python-dateutil>=2.7->matplotlib!=3.6.1,>=3.4->seaborn) (1.16.0)\n",
      "Note: you may need to restart the kernel to use updated packages.\n"
     ]
    },
    {
     "name": "stderr",
     "output_type": "stream",
     "text": [
      "\n",
      "[notice] A new release of pip is available: 24.0 -> 24.3.1\n",
      "[notice] To update, run: python.exe -m pip install --upgrade pip\n"
     ]
    },
    {
     "name": "stdout",
     "output_type": "stream",
     "text": [
      "Requirement already satisfied: spacy in c:\\python312\\lib\\site-packages (3.8.3)\n",
      "Requirement already satisfied: spacy-legacy<3.1.0,>=3.0.11 in c:\\python312\\lib\\site-packages (from spacy) (3.0.12)\n",
      "Requirement already satisfied: spacy-loggers<2.0.0,>=1.0.0 in c:\\python312\\lib\\site-packages (from spacy) (1.0.5)\n",
      "Requirement already satisfied: murmurhash<1.1.0,>=0.28.0 in c:\\python312\\lib\\site-packages (from spacy) (1.0.11)\n",
      "Requirement already satisfied: cymem<2.1.0,>=2.0.2 in c:\\python312\\lib\\site-packages (from spacy) (2.0.10)\n",
      "Requirement already satisfied: preshed<3.1.0,>=3.0.2 in c:\\python312\\lib\\site-packages (from spacy) (3.0.9)\n",
      "Requirement already satisfied: thinc<8.4.0,>=8.3.0 in c:\\python312\\lib\\site-packages (from spacy) (8.3.3)\n",
      "Requirement already satisfied: wasabi<1.2.0,>=0.9.1 in c:\\python312\\lib\\site-packages (from spacy) (1.1.3)\n",
      "Requirement already satisfied: srsly<3.0.0,>=2.4.3 in c:\\python312\\lib\\site-packages (from spacy) (2.5.0)\n",
      "Requirement already satisfied: catalogue<2.1.0,>=2.0.6 in c:\\python312\\lib\\site-packages (from spacy) (2.0.10)\n",
      "Requirement already satisfied: weasel<0.5.0,>=0.1.0 in c:\\python312\\lib\\site-packages (from spacy) (0.4.1)\n",
      "Requirement already satisfied: typer<1.0.0,>=0.3.0 in c:\\python312\\lib\\site-packages (from spacy) (0.15.1)\n",
      "Requirement already satisfied: tqdm<5.0.0,>=4.38.0 in c:\\users\\prerana\\appdata\\roaming\\python\\python312\\site-packages (from spacy) (4.66.5)\n",
      "Requirement already satisfied: numpy>=1.19.0 in c:\\users\\prerana\\appdata\\roaming\\python\\python312\\site-packages (from spacy) (2.1.0)\n",
      "Requirement already satisfied: requests<3.0.0,>=2.13.0 in c:\\python312\\lib\\site-packages (from spacy) (2.32.3)\n",
      "Requirement already satisfied: pydantic!=1.8,!=1.8.1,<3.0.0,>=1.7.4 in c:\\python312\\lib\\site-packages (from spacy) (2.10.4)\n",
      "Requirement already satisfied: jinja2 in c:\\python312\\lib\\site-packages (from spacy) (3.1.4)\n",
      "Requirement already satisfied: setuptools in c:\\users\\prerana\\appdata\\roaming\\python\\python312\\site-packages (from spacy) (74.0.0)\n",
      "Requirement already satisfied: packaging>=20.0 in c:\\users\\prerana\\appdata\\roaming\\python\\python312\\site-packages (from spacy) (24.2)\n",
      "Requirement already satisfied: langcodes<4.0.0,>=3.2.0 in c:\\python312\\lib\\site-packages (from spacy) (3.5.0)\n",
      "Requirement already satisfied: language-data>=1.2 in c:\\python312\\lib\\site-packages (from langcodes<4.0.0,>=3.2.0->spacy) (1.3.0)\n",
      "Requirement already satisfied: annotated-types>=0.6.0 in c:\\python312\\lib\\site-packages (from pydantic!=1.8,!=1.8.1,<3.0.0,>=1.7.4->spacy) (0.7.0)\n",
      "Requirement already satisfied: pydantic-core==2.27.2 in c:\\python312\\lib\\site-packages (from pydantic!=1.8,!=1.8.1,<3.0.0,>=1.7.4->spacy) (2.27.2)\n",
      "Requirement already satisfied: typing-extensions>=4.12.2 in c:\\python312\\lib\\site-packages (from pydantic!=1.8,!=1.8.1,<3.0.0,>=1.7.4->spacy) (4.12.2)\n",
      "Requirement already satisfied: charset-normalizer<4,>=2 in c:\\python312\\lib\\site-packages (from requests<3.0.0,>=2.13.0->spacy) (3.3.2)\n",
      "Requirement already satisfied: idna<4,>=2.5 in c:\\python312\\lib\\site-packages (from requests<3.0.0,>=2.13.0->spacy) (3.8)\n",
      "Requirement already satisfied: urllib3<3,>=1.21.1 in c:\\python312\\lib\\site-packages (from requests<3.0.0,>=2.13.0->spacy) (2.2.2)\n",
      "Requirement already satisfied: certifi>=2017.4.17 in c:\\python312\\lib\\site-packages (from requests<3.0.0,>=2.13.0->spacy) (2024.7.4)\n",
      "Requirement already satisfied: blis<1.2.0,>=1.1.0 in c:\\python312\\lib\\site-packages (from thinc<8.4.0,>=8.3.0->spacy) (1.1.0)\n",
      "Requirement already satisfied: confection<1.0.0,>=0.0.1 in c:\\python312\\lib\\site-packages (from thinc<8.4.0,>=8.3.0->spacy) (0.1.5)\n",
      "Requirement already satisfied: colorama in c:\\python312\\lib\\site-packages (from tqdm<5.0.0,>=4.38.0->spacy) (0.4.6)\n",
      "Requirement already satisfied: click>=8.0.0 in c:\\python312\\lib\\site-packages (from typer<1.0.0,>=0.3.0->spacy) (8.1.7)\n",
      "Requirement already satisfied: shellingham>=1.3.0 in c:\\python312\\lib\\site-packages (from typer<1.0.0,>=0.3.0->spacy) (1.5.4)\n",
      "Requirement already satisfied: rich>=10.11.0 in c:\\python312\\lib\\site-packages (from typer<1.0.0,>=0.3.0->spacy) (13.9.4)\n",
      "Requirement already satisfied: cloudpathlib<1.0.0,>=0.7.0 in c:\\python312\\lib\\site-packages (from weasel<0.5.0,>=0.1.0->spacy) (0.20.0)\n",
      "Requirement already satisfied: smart-open<8.0.0,>=5.2.1 in c:\\python312\\lib\\site-packages (from weasel<0.5.0,>=0.1.0->spacy) (7.1.0)\n",
      "Requirement already satisfied: MarkupSafe>=2.0 in c:\\python312\\lib\\site-packages (from jinja2->spacy) (2.1.5)\n",
      "Requirement already satisfied: marisa-trie>=1.1.0 in c:\\python312\\lib\\site-packages (from language-data>=1.2->langcodes<4.0.0,>=3.2.0->spacy) (1.2.1)\n",
      "Requirement already satisfied: markdown-it-py>=2.2.0 in c:\\python312\\lib\\site-packages (from rich>=10.11.0->typer<1.0.0,>=0.3.0->spacy) (3.0.0)\n",
      "Requirement already satisfied: pygments<3.0.0,>=2.13.0 in c:\\users\\prerana\\appdata\\roaming\\python\\python312\\site-packages (from rich>=10.11.0->typer<1.0.0,>=0.3.0->spacy) (2.18.0)\n",
      "Requirement already satisfied: wrapt in c:\\python312\\lib\\site-packages (from smart-open<8.0.0,>=5.2.1->weasel<0.5.0,>=0.1.0->spacy) (1.17.0)\n",
      "Requirement already satisfied: mdurl~=0.1 in c:\\python312\\lib\\site-packages (from markdown-it-py>=2.2.0->rich>=10.11.0->typer<1.0.0,>=0.3.0->spacy) (0.1.2)\n",
      "Note: you may need to restart the kernel to use updated packages.\n"
     ]
    },
    {
     "name": "stderr",
     "output_type": "stream",
     "text": [
      "\n",
      "[notice] A new release of pip is available: 24.0 -> 24.3.1\n",
      "[notice] To update, run: python.exe -m pip install --upgrade pip\n"
     ]
    }
   ],
   "source": [
    "# Installing additional libraries for text preprocessing\n",
    "%pip install emoji\n",
    "%pip install contractions\n",
    "%pip install seaborn\n",
    "%pip install spacy"
   ]
  },
  {
   "cell_type": "code",
   "execution_count": 87,
   "metadata": {
    "id": "x-8TXiWR0ZPY",
    "outputId": "bf228d83-b5a9-4502-e5e7-ef9a6ea183cd"
   },
   "outputs": [
    {
     "name": "stdout",
     "output_type": "stream",
     "text": [
      "Note: you may need to restart the kernel to use updated packages.Requirement already satisfied: spacy in c:\\python312\\lib\\site-packages (3.8.3)\n",
      "Requirement already satisfied: spacy-legacy<3.1.0,>=3.0.11 in c:\\python312\\lib\\site-packages (from spacy) (3.0.12)\n",
      "Requirement already satisfied: spacy-loggers<2.0.0,>=1.0.0 in c:\\python312\\lib\\site-packages (from spacy) (1.0.5)\n",
      "Requirement already satisfied: murmurhash<1.1.0,>=0.28.0 in c:\\python312\\lib\\site-packages (from spacy) (1.0.11)\n",
      "Requirement already satisfied: cymem<2.1.0,>=2.0.2 in c:\\python312\\lib\\site-packages (from spacy) (2.0.10)\n",
      "Requirement already satisfied: preshed<3.1.0,>=3.0.2 in c:\\python312\\lib\\site-packages (from spacy) (3.0.9)\n",
      "Requirement already satisfied: thinc<8.4.0,>=8.3.0 in c:\\python312\\lib\\site-packages (from spacy) (8.3.3)\n",
      "Requirement already satisfied: wasabi<1.2.0,>=0.9.1 in c:\\python312\\lib\\site-packages (from spacy) (1.1.3)\n",
      "Requirement already satisfied: srsly<3.0.0,>=2.4.3 in c:\\python312\\lib\\site-packages (from spacy) (2.5.0)\n",
      "Requirement already satisfied: catalogue<2.1.0,>=2.0.6 in c:\\python312\\lib\\site-packages (from spacy) (2.0.10)\n",
      "Requirement already satisfied: weasel<0.5.0,>=0.1.0 in c:\\python312\\lib\\site-packages (from spacy) (0.4.1)\n",
      "Requirement already satisfied: typer<1.0.0,>=0.3.0 in c:\\python312\\lib\\site-packages (from spacy) (0.15.1)\n",
      "Requirement already satisfied: tqdm<5.0.0,>=4.38.0 in c:\\users\\prerana\\appdata\\roaming\\python\\python312\\site-packages (from spacy) (4.66.5)\n",
      "Requirement already satisfied: numpy>=1.19.0 in c:\\users\\prerana\\appdata\\roaming\\python\\python312\\site-packages (from spacy) (2.1.0)\n",
      "Requirement already satisfied: requests<3.0.0,>=2.13.0 in c:\\python312\\lib\\site-packages (from spacy) (2.32.3)\n",
      "Requirement already satisfied: pydantic!=1.8,!=1.8.1,<3.0.0,>=1.7.4 in c:\\python312\\lib\\site-packages (from spacy) (2.10.4)\n",
      "Requirement already satisfied: jinja2 in c:\\python312\\lib\\site-packages (from spacy) (3.1.4)\n",
      "Requirement already satisfied: setuptools in c:\\users\\prerana\\appdata\\roaming\\python\\python312\\site-packages (from spacy) (74.0.0)\n",
      "Requirement already satisfied: packaging>=20.0 in c:\\users\\prerana\\appdata\\roaming\\python\\python312\\site-packages (from spacy) (24.2)\n",
      "Requirement already satisfied: langcodes<4.0.0,>=3.2.0 in c:\\python312\\lib\\site-packages (from spacy) (3.5.0)\n",
      "Requirement already satisfied: language-data>=1.2 in c:\\python312\\lib\\site-packages (from langcodes<4.0.0,>=3.2.0->spacy) (1.3.0)\n",
      "Requirement already satisfied: annotated-types>=0.6.0 in c:\\python312\\lib\\site-packages (from pydantic!=1.8,!=1.8.1,<3.0.0,>=1.7.4->spacy) (0.7.0)\n",
      "Requirement already satisfied: pydantic-core==2.27.2 in c:\\python312\\lib\\site-packages (from pydantic!=1.8,!=1.8.1,<3.0.0,>=1.7.4->spacy) (2.27.2)\n",
      "Requirement already satisfied: typing-extensions>=4.12.2 in c:\\python312\\lib\\site-packages (from pydantic!=1.8,!=1.8.1,<3.0.0,>=1.7.4->spacy) (4.12.2)\n",
      "Requirement already satisfied: charset-normalizer<4,>=2 in c:\\python312\\lib\\site-packages (from requests<3.0.0,>=2.13.0->spacy) (3.3.2)\n",
      "Requirement already satisfied: idna<4,>=2.5 in c:\\python312\\lib\\site-packages (from requests<3.0.0,>=2.13.0->spacy) (3.8)\n",
      "Requirement already satisfied: urllib3<3,>=1.21.1 in c:\\python312\\lib\\site-packages (from requests<3.0.0,>=2.13.0->spacy) (2.2.2)\n",
      "Requirement already satisfied: certifi>=2017.4.17 in c:\\python312\\lib\\site-packages (from requests<3.0.0,>=2.13.0->spacy) (2024.7.4)\n",
      "\n",
      "Requirement already satisfied: blis<1.2.0,>=1.1.0 in c:\\python312\\lib\\site-packages (from thinc<8.4.0,>=8.3.0->spacy) (1.1.0)\n",
      "Requirement already satisfied: confection<1.0.0,>=0.0.1 in c:\\python312\\lib\\site-packages (from thinc<8.4.0,>=8.3.0->spacy) (0.1.5)\n",
      "Requirement already satisfied: colorama in c:\\python312\\lib\\site-packages (from tqdm<5.0.0,>=4.38.0->spacy) (0.4.6)\n",
      "Requirement already satisfied: click>=8.0.0 in c:\\python312\\lib\\site-packages (from typer<1.0.0,>=0.3.0->spacy) (8.1.7)\n",
      "Requirement already satisfied: shellingham>=1.3.0 in c:\\python312\\lib\\site-packages (from typer<1.0.0,>=0.3.0->spacy) (1.5.4)\n",
      "Requirement already satisfied: rich>=10.11.0 in c:\\python312\\lib\\site-packages (from typer<1.0.0,>=0.3.0->spacy) (13.9.4)\n",
      "Requirement already satisfied: cloudpathlib<1.0.0,>=0.7.0 in c:\\python312\\lib\\site-packages (from weasel<0.5.0,>=0.1.0->spacy) (0.20.0)\n",
      "Requirement already satisfied: smart-open<8.0.0,>=5.2.1 in c:\\python312\\lib\\site-packages (from weasel<0.5.0,>=0.1.0->spacy) (7.1.0)\n",
      "Requirement already satisfied: MarkupSafe>=2.0 in c:\\python312\\lib\\site-packages (from jinja2->spacy) (2.1.5)\n",
      "Requirement already satisfied: marisa-trie>=1.1.0 in c:\\python312\\lib\\site-packages (from language-data>=1.2->langcodes<4.0.0,>=3.2.0->spacy) (1.2.1)\n",
      "Requirement already satisfied: markdown-it-py>=2.2.0 in c:\\python312\\lib\\site-packages (from rich>=10.11.0->typer<1.0.0,>=0.3.0->spacy) (3.0.0)\n",
      "Requirement already satisfied: pygments<3.0.0,>=2.13.0 in c:\\users\\prerana\\appdata\\roaming\\python\\python312\\site-packages (from rich>=10.11.0->typer<1.0.0,>=0.3.0->spacy) (2.18.0)\n",
      "Requirement already satisfied: wrapt in c:\\python312\\lib\\site-packages (from smart-open<8.0.0,>=5.2.1->weasel<0.5.0,>=0.1.0->spacy) (1.17.0)\n",
      "Requirement already satisfied: mdurl~=0.1 in c:\\python312\\lib\\site-packages (from markdown-it-py>=2.2.0->rich>=10.11.0->typer<1.0.0,>=0.3.0->spacy) (0.1.2)\n"
     ]
    },
    {
     "name": "stderr",
     "output_type": "stream",
     "text": [
      "\n",
      "[notice] A new release of pip is available: 24.0 -> 24.3.1\n",
      "[notice] To update, run: python.exe -m pip install --upgrade pip\n"
     ]
    }
   ],
   "source": [
    "# Data manipulation libraries\n",
    "import pandas as pd\n",
    "import numpy as np\n",
    "import json\n",
    "from pprint import pprint\n",
    "\n",
    "# Visualization libraries\n",
    "import matplotlib.pyplot as plt\n",
    "\n",
    "import seaborn as sns\n",
    "sns.set_style('whitegrid')\n",
    "\n",
    "# Text processing libraries\n",
    "import emoji\n",
    "import re\n",
    "import contractions\n",
    "from collections import Counter\n",
    "\n",
    "# Install spacy if not already installed\n",
    "%pip install spacy\n",
    "\n",
    "import spacy\n",
    "from spacy.lang.en.stop_words import STOP_WORDS"
   ]
  },
  {
   "cell_type": "markdown",
   "metadata": {
    "id": "GxPaIb1S2GeP"
   },
   "source": [
    "Spliting the data and look into the content"
   ]
  },
  {
   "cell_type": "code",
   "execution_count": 88,
   "metadata": {
    "id": "x4_l7VZB0ZPZ",
    "outputId": "38eb948d-93dd-4fe1-a12d-fd45ad9e3485"
   },
   "outputs": [
    {
     "data": {
      "text/html": [
       "<div>\n",
       "<style scoped>\n",
       "    .dataframe tbody tr th:only-of-type {\n",
       "        vertical-align: middle;\n",
       "    }\n",
       "\n",
       "    .dataframe tbody tr th {\n",
       "        vertical-align: top;\n",
       "    }\n",
       "\n",
       "    .dataframe thead th {\n",
       "        text-align: right;\n",
       "    }\n",
       "</style>\n",
       "<table border=\"1\" class=\"dataframe\">\n",
       "  <thead>\n",
       "    <tr style=\"text-align: right;\">\n",
       "      <th></th>\n",
       "      <th>id</th>\n",
       "      <th>text</th>\n",
       "      <th>Anger</th>\n",
       "      <th>Fear</th>\n",
       "      <th>Joy</th>\n",
       "      <th>Sadness</th>\n",
       "      <th>Surprise</th>\n",
       "    </tr>\n",
       "  </thead>\n",
       "  <tbody>\n",
       "    <tr>\n",
       "      <th>0</th>\n",
       "      <td>eng_train_track_a_00001</td>\n",
       "      <td>But not very happy.</td>\n",
       "      <td>0</td>\n",
       "      <td>0</td>\n",
       "      <td>1</td>\n",
       "      <td>1</td>\n",
       "      <td>0</td>\n",
       "    </tr>\n",
       "    <tr>\n",
       "      <th>1</th>\n",
       "      <td>eng_train_track_a_00002</td>\n",
       "      <td>Well she's not gon na last the whole song like...</td>\n",
       "      <td>0</td>\n",
       "      <td>0</td>\n",
       "      <td>1</td>\n",
       "      <td>0</td>\n",
       "      <td>0</td>\n",
       "    </tr>\n",
       "    <tr>\n",
       "      <th>2</th>\n",
       "      <td>eng_train_track_a_00003</td>\n",
       "      <td>She sat at her Papa's recliner sofa only to mo...</td>\n",
       "      <td>0</td>\n",
       "      <td>0</td>\n",
       "      <td>0</td>\n",
       "      <td>0</td>\n",
       "      <td>0</td>\n",
       "    </tr>\n",
       "    <tr>\n",
       "      <th>3</th>\n",
       "      <td>eng_train_track_a_00004</td>\n",
       "      <td>Yes, the Oklahoma city bombing.</td>\n",
       "      <td>1</td>\n",
       "      <td>1</td>\n",
       "      <td>0</td>\n",
       "      <td>1</td>\n",
       "      <td>1</td>\n",
       "    </tr>\n",
       "    <tr>\n",
       "      <th>4</th>\n",
       "      <td>eng_train_track_a_00005</td>\n",
       "      <td>They were dancing to Bolero.</td>\n",
       "      <td>0</td>\n",
       "      <td>0</td>\n",
       "      <td>1</td>\n",
       "      <td>0</td>\n",
       "      <td>0</td>\n",
       "    </tr>\n",
       "  </tbody>\n",
       "</table>\n",
       "</div>"
      ],
      "text/plain": [
       "                        id                                               text  \\\n",
       "0  eng_train_track_a_00001                                But not very happy.   \n",
       "1  eng_train_track_a_00002  Well she's not gon na last the whole song like...   \n",
       "2  eng_train_track_a_00003  She sat at her Papa's recliner sofa only to mo...   \n",
       "3  eng_train_track_a_00004                    Yes, the Oklahoma city bombing.   \n",
       "4  eng_train_track_a_00005                       They were dancing to Bolero.   \n",
       "\n",
       "   Anger  Fear  Joy  Sadness  Surprise  \n",
       "0      0     0    1        1         0  \n",
       "1      0     0    1        0         0  \n",
       "2      0     0    0        0         0  \n",
       "3      1     1    0        1         1  \n",
       "4      0     0    1        0         0  "
      ]
     },
     "execution_count": 88,
     "metadata": {},
     "output_type": "execute_result"
    }
   ],
   "source": [
    "# Load the train and test files\n",
    "train_df = pd.read_csv('D:/Drive D/TU_Dresden/STUDY/LLM/semeval_project/semeval_project/data/eng_train.csv')\n",
    "test_df = pd.read_csv('D:/Drive D/TU_Dresden/STUDY/LLM/semeval_project/semeval_project/data/eng_a_dev.csv')\n",
    "\n",
    "# Display the first few rows of the train dataframe\n",
    "train_df.head()\n",
    "\n",
    "# display dev data\n",
    "#test_df.head()\n",
    "\n",
    "# check the missing values in the train data\n",
    "#train_df.isnull().sum()\n",
    "# print number of missing values in the train data\n",
    "#print('Number of missing values in the train data:', train_df.isnull().sum().sum())"
   ]
  },
  {
   "cell_type": "markdown",
   "metadata": {
    "id": "Lm5rZRcE2aDf"
   },
   "source": [
    "Data cleaning"
   ]
  },
  {
   "cell_type": "code",
   "execution_count": 89,
   "metadata": {
    "id": "Bwwh6qOu0ZPZ",
    "outputId": "32266d98-e63c-4fef-f647-2e91da571549"
   },
   "outputs": [
    {
     "data": {
      "text/html": [
       "<div>\n",
       "<style scoped>\n",
       "    .dataframe tbody tr th:only-of-type {\n",
       "        vertical-align: middle;\n",
       "    }\n",
       "\n",
       "    .dataframe tbody tr th {\n",
       "        vertical-align: top;\n",
       "    }\n",
       "\n",
       "    .dataframe thead th {\n",
       "        text-align: right;\n",
       "    }\n",
       "</style>\n",
       "<table border=\"1\" class=\"dataframe\">\n",
       "  <thead>\n",
       "    <tr style=\"text-align: right;\">\n",
       "      <th></th>\n",
       "      <th>id</th>\n",
       "      <th>text</th>\n",
       "      <th>anger</th>\n",
       "      <th>fear</th>\n",
       "      <th>joy</th>\n",
       "      <th>sadness</th>\n",
       "      <th>surprise</th>\n",
       "    </tr>\n",
       "  </thead>\n",
       "  <tbody>\n",
       "    <tr>\n",
       "      <th>0</th>\n",
       "      <td>eng_train_track_a_00001</td>\n",
       "      <td>But not very happy.</td>\n",
       "      <td>0</td>\n",
       "      <td>0</td>\n",
       "      <td>1</td>\n",
       "      <td>1</td>\n",
       "      <td>0</td>\n",
       "    </tr>\n",
       "    <tr>\n",
       "      <th>1</th>\n",
       "      <td>eng_train_track_a_00002</td>\n",
       "      <td>Well she's not gon na last the whole song like...</td>\n",
       "      <td>0</td>\n",
       "      <td>0</td>\n",
       "      <td>1</td>\n",
       "      <td>0</td>\n",
       "      <td>0</td>\n",
       "    </tr>\n",
       "    <tr>\n",
       "      <th>2</th>\n",
       "      <td>eng_train_track_a_00003</td>\n",
       "      <td>She sat at her Papa's recliner sofa only to mo...</td>\n",
       "      <td>0</td>\n",
       "      <td>0</td>\n",
       "      <td>0</td>\n",
       "      <td>0</td>\n",
       "      <td>0</td>\n",
       "    </tr>\n",
       "    <tr>\n",
       "      <th>3</th>\n",
       "      <td>eng_train_track_a_00004</td>\n",
       "      <td>Yes, the Oklahoma city bombing.</td>\n",
       "      <td>1</td>\n",
       "      <td>1</td>\n",
       "      <td>0</td>\n",
       "      <td>1</td>\n",
       "      <td>1</td>\n",
       "    </tr>\n",
       "    <tr>\n",
       "      <th>4</th>\n",
       "      <td>eng_train_track_a_00005</td>\n",
       "      <td>They were dancing to Bolero.</td>\n",
       "      <td>0</td>\n",
       "      <td>0</td>\n",
       "      <td>1</td>\n",
       "      <td>0</td>\n",
       "      <td>0</td>\n",
       "    </tr>\n",
       "  </tbody>\n",
       "</table>\n",
       "</div>"
      ],
      "text/plain": [
       "                        id                                               text  \\\n",
       "0  eng_train_track_a_00001                                But not very happy.   \n",
       "1  eng_train_track_a_00002  Well she's not gon na last the whole song like...   \n",
       "2  eng_train_track_a_00003  She sat at her Papa's recliner sofa only to mo...   \n",
       "3  eng_train_track_a_00004                    Yes, the Oklahoma city bombing.   \n",
       "4  eng_train_track_a_00005                       They were dancing to Bolero.   \n",
       "\n",
       "   anger  fear  joy  sadness  surprise  \n",
       "0      0     0    1        1         0  \n",
       "1      0     0    1        0         0  \n",
       "2      0     0    0        0         0  \n",
       "3      1     1    0        1         1  \n",
       "4      0     0    1        0         0  "
      ]
     },
     "execution_count": 89,
     "metadata": {},
     "output_type": "execute_result"
    }
   ],
   "source": [
    "# Perform data cleaning\n",
    "def clean_data(df):\n",
    "    # Remove any duplicate rows based on 'id'\n",
    "    df = df.drop_duplicates(subset='id')\n",
    "\n",
    "    # Fill any missing values in the emotion columns with 0\n",
    "    emotion_columns = ['Anger', 'Fear', 'Joy', 'Sadness', 'Surprise']\n",
    "    df[emotion_columns] = df[emotion_columns].fillna(0)\n",
    "\n",
    "    return df\n",
    "\n",
    "\n",
    "# Clean the train and test dataframes\n",
    "clean_train_df = clean_data(train_df)\n",
    "#clean_test_df = clean_data(test_df)\n",
    "\n",
    "# Replace column names with lowercase\n",
    "clean_train_df.columns = [col.lower() for col in clean_train_df.columns]\n",
    "#clean_test_df.columns = [col.lower() for col in clean_test_df.columns]\n",
    "\n",
    "# Display the cleaned train dataframe\n",
    "clean_train_df.head()"
   ]
  },
  {
   "cell_type": "markdown",
   "metadata": {
    "id": "6KYd7vUY2ix7"
   },
   "source": [
    "Checking the data size and total number of samples"
   ]
  },
  {
   "cell_type": "code",
   "execution_count": 90,
   "metadata": {
    "id": "6RJc7zXH0ZPa",
    "outputId": "e8bd0f2b-337d-4f84-d5e4-d7421fbac55e"
   },
   "outputs": [
    {
     "name": "stdout",
     "output_type": "stream",
     "text": [
      "Number of samples in the train dataset: 2768\n",
      "Total number of samples: 2884\n"
     ]
    }
   ],
   "source": [
    "# Number of samples in the train dataset\n",
    "num_train_samples = clean_train_df.shape[0]\n",
    "\n",
    "# Number of samples in the test dataset\n",
    "#num_test_samples = clean_test_df.shape[0]\n",
    "\n",
    "# Total number of samples\n",
    "total_samples = num_train_samples + test_df.shape[0]\n",
    "\n",
    "print(f\"Number of samples in the train dataset: {num_train_samples}\")\n",
    "#print(f\"Number of samples in the test dataset: {num_test_samples}\")\n",
    "print(f\"Total number of samples: {total_samples}\")"
   ]
  },
  {
   "cell_type": "code",
   "execution_count": 64,
   "metadata": {
    "id": "XRidYeKA0ZPa",
    "outputId": "f34d0627-9633-4648-8d8d-08b06d74c960"
   },
   "outputs": [
    {
     "name": "stdout",
     "output_type": "stream",
     "text": [
      "Train dataset has 2768 samples and represents 95.98% of overall data\n",
      "Test dataset has 116 samples and represents 4.02% of overall data\n",
      "\n",
      "The total number of samples is : 2884\n"
     ]
    }
   ],
   "source": [
    "# Assuming you have already cleaned the data and defined the number of samples\n",
    "num_train_samples = clean_train_df.shape[0]\n",
    "num_test_samples = test_df.shape[0]\n",
    "total_samples = num_train_samples + num_test_samples\n",
    "\n",
    "# Print the shape of train, validation, and test datasets\n",
    "print(\"Train dataset has {} samples and represents {:.2f}% of overall data\".format(num_train_samples, num_train_samples / total_samples * 100))\n",
    "print(\"Test dataset has {} samples and represents {:.2f}% of overall data\".format(num_test_samples, num_test_samples / total_samples * 100))\n",
    "print()\n",
    "print(\"The total number of samples is : {}\".format(total_samples))"
   ]
  },
  {
   "cell_type": "code",
   "execution_count": 65,
   "metadata": {
    "id": "84gHqqLq0ZPb",
    "outputId": "38ecccda-32d6-41d7-e4d1-50e636987e8b"
   },
   "outputs": [
    {
     "name": "stdout",
     "output_type": "stream",
     "text": [
      "<class 'pandas.core.frame.DataFrame'>\n",
      "RangeIndex: 2768 entries, 0 to 2767\n",
      "Data columns (total 7 columns):\n",
      " #   Column    Non-Null Count  Dtype \n",
      "---  ------    --------------  ----- \n",
      " 0   id        2768 non-null   object\n",
      " 1   text      2768 non-null   object\n",
      " 2   anger     2768 non-null   int64 \n",
      " 3   fear      2768 non-null   int64 \n",
      " 4   joy       2768 non-null   int64 \n",
      " 5   sadness   2768 non-null   int64 \n",
      " 6   surprise  2768 non-null   int64 \n",
      "dtypes: int64(5), object(2)\n",
      "memory usage: 151.5+ KB\n"
     ]
    }
   ],
   "source": [
    "# Display some useful information about our data\n",
    "clean_train_df.info()"
   ]
  },
  {
   "cell_type": "markdown",
   "metadata": {
    "id": "0Rsu5oPn0ZPb"
   },
   "source": [
    "# Text Preprocessing"
   ]
  },
  {
   "cell_type": "code",
   "execution_count": 66,
   "metadata": {
    "id": "fxZeamtD0ZPb",
    "outputId": "d64cf0cb-219b-4412-f835-5a9d79f211b1"
   },
   "outputs": [
    {
     "name": "stdout",
     "output_type": "stream",
     "text": [
      "My left clav essentially blew up, but it didn't stop there.\n"
     ]
    }
   ],
   "source": [
    "# Visualising a random text sample from the dataset\n",
    "text_sample = np.random.randint(len(clean_train_df))\n",
    "print(clean_train_df.loc[text_sample, \"text\"])"
   ]
  },
  {
   "cell_type": "code",
   "execution_count": 67,
   "metadata": {
    "id": "lFGFdvCF0ZPc"
   },
   "outputs": [],
   "source": [
    "# Building a preprocessing function to clean text\n",
    "def preprocess_data(x):\n",
    "\n",
    "  # Adding a space between words and punctation\n",
    "  x = re.sub( r'([a-zA-Z\\[\\]])([,;.!?])', r'\\1 \\2', x)\n",
    "  x = re.sub( r'([,;.!?])([a-zA-Z\\[\\]])', r'\\1 \\2', x)\n",
    "\n",
    "  # Demojize\n",
    "  x = emoji.demojize(x)\n",
    "\n",
    "  # Expand contraction\n",
    "  x = contractions.fix(x)\n",
    "\n",
    "  # Lower\n",
    "  x = x.lower()\n",
    "\n",
    "  #correct some acronyms/typos/abbreviations\n",
    "  x = re.sub(r\"\\b(yikes\\b)\", \"worried\", x)\n",
    "  x = re.sub(r\"\\b(TV\\b)\", \"Television\", x)\n",
    "  x = re.sub(r\"\\b(W910i\\b)\", \"electronic gadget\", x)\n",
    "  x = re.sub(r\"amirite\", \"am i right\", x)\n",
    "  x = re.sub(r\"\\b(tho)\\b\", \"though\", x)\n",
    "  x = re.sub(r\"\\b(ikr)\\b\", \"i know right\", x) \n",
    "  x = re.sub(r\"\\b(ya|u)\\b\", \"you\", x)\n",
    "  x = re.sub(r\"\\b(eu)\\b\", \"europe\", x)\n",
    "  x = re.sub(r\"\\b(da)\\b\", \"the\", x)\n",
    "  x = re.sub(r\"\\b(dat)\\b\", \"that\", x)\n",
    "  x = re.sub(r\"\\b(dats)\\b\", \"that is\", x)\n",
    "  x = re.sub(r\"\\b(cuz)\\b\", \"because\", x)\n",
    "  x = re.sub(r\"\\b(fkn)\\b\", \"fucking\", x)\n",
    "  x = re.sub(r\"\\b(tbh)\\b\", \"to be honest\", x)\n",
    "  x = re.sub(r\"\\b(tbf)\\b\", \"to be fair\", x)\n",
    "  x = re.sub(r\"faux pas\", \"mistake\", x)\n",
    "  x = re.sub(r\"\\b(btw)\\b\", \"by the way\", x)\n",
    "  x = re.sub(r\"lmao\", \"laughing my ass off\", x)\n",
    "  x = re.sub(r\"\\b(bs)\\b\", \"bullshit\", x)\n",
    "  x = re.sub(r\"\\b(kinda)\\b\", \"kind of\", x)\n",
    "  x = re.sub(r\"\\b(bruh)\\b\", \"bro\", x)\n",
    "  x = re.sub(r\"\\b(w/e)\\b\", \"whatever\", x)\n",
    "  x = re.sub(r\"\\b(w/)\\b\", \"with\", x)\n",
    "  x = re.sub(r\"\\b(w/o)\\b\", \"without\", x)\n",
    "  x = re.sub(r\"\\b(doj)\\b\", \"department of justice\", x)\n",
    "  \n",
    "\n",
    "  #replace some words with multiple occurences of a letter, example \"coooool\" turns into --> cool\n",
    "  x = re.sub(r\"\\b(j+e{2,}z+e*)\\b\", \"jeez\", x)\n",
    "  x = re.sub(r\"\\b(co+l+)\\b\", \"cool\", x)\n",
    "  x = re.sub(r\"\\b(g+o+a+l+)\\b\", \"goal\", x)\n",
    "  x = re.sub(r\"\\b(s+h+i+t+)\\b\", \"shit\", x)\n",
    "  x = re.sub(r\"\\b(o+m+g+)\\b\", \"omg\", x)\n",
    "  x = re.sub(r\"\\b(w+t+f+)\\b\", \"wtf\", x)\n",
    "  x = re.sub(r\"\\b(w+h+a+t+)\\b\", \"what\", x)\n",
    "  x = re.sub(r\"\\b(y+e+y+|y+a+y+|y+e+a+h+)\\b\", \"yeah\", x)\n",
    "  x = re.sub(r\"\\b(w+o+w+)\\b\", \"wow\", x)\n",
    "  x = re.sub(r\"\\b(w+h+y+)\\b\", \"why\", x)\n",
    "  x = re.sub(r\"\\b(s+o+)\\b\", \"so\", x)\n",
    "  x = re.sub(r\"\\b(f)\\b\", \"fuck\", x)\n",
    "  x = re.sub(r\"\\b(w+h+o+p+s+)\\b\", \"whoops\", x)\n",
    "  x = re.sub(r\"\\b(ofc)\\b\", \"of course\", x)\n",
    "  x = re.sub(r\"\\b(the us)\\b\", \"usa\", x)\n",
    "  x = re.sub(r\"\\b(gf)\\b\", \"girlfriend\", x)\n",
    "  x = re.sub(r\"\\b(hr)\\b\", \"human ressources\", x)\n",
    "  x = re.sub(r\"\\b(mh)\\b\", \"mental health\", x)\n",
    "  x = re.sub(r\"\\b(idk)\\b\", \"i do not know\", x)\n",
    "  x = re.sub(r\"\\b(gotcha)\\b\", \"i got you\", x)\n",
    "  x = re.sub(r\"\\b(y+e+p+)\\b\", \"yes\", x)\n",
    "  x = re.sub(r\"\\b(a*ha+h[ha]*|a*ha +h[ha]*)\\b\", \"haha\", x)\n",
    "  x = re.sub(r\"\\b(o?l+o+l+[ol]*)\\b\", \"lol\", x)\n",
    "  x = re.sub(r\"\\b(o*ho+h[ho]*|o*ho +h[ho]*)\\b\", \"ohoh\", x)\n",
    "  x = re.sub(r\"\\b(o+h+)\\b\", \"oh\", x)\n",
    "  x = re.sub(r\"\\b(a+h+)\\b\", \"ah\", x)\n",
    "  x = re.sub(r\"\\b(u+h+)\\b\", \"uh\", x)\n",
    "\n",
    "  # Handling emojis\n",
    "  x = re.sub(r\"<3\", \" love \", x)\n",
    "  x = re.sub(r\"xd\", \" smiling_face_with_open_mouth_and_tightly_closed_eyes \", x)\n",
    "  x = re.sub(r\":\\)\", \" smiling_face \", x)\n",
    "  x = re.sub(r\"^_^\", \" smiling_face \", x)\n",
    "  x = re.sub(r\"\\*_\\*\", \" star_struck \", x)\n",
    "  x = re.sub(r\":\\(\", \" frowning_face \", x)\n",
    "  x = re.sub(r\":\\^\\(\", \" frowning_face \", x)\n",
    "  x = re.sub(r\";\\(\", \" frowning_face \", x)\n",
    "  x = re.sub(r\":\\/\",  \" confused_face\", x)\n",
    "  x = re.sub(r\";\\)\",  \" wink\", x)\n",
    "  x = re.sub(r\">__<\",  \" unamused \", x)\n",
    "  x = re.sub(r\"\\b([xo]+x*)\\b\", \" xoxo \", x)\n",
    "  x = re.sub(r\"\\b(n+a+h+)\\b\", \"no\", x)\n",
    "\n",
    "  # Handling special cases of text\n",
    "  x = re.sub(r\"h a m b e r d e r s\", \"hamberders\", x)\n",
    "  x = re.sub(r\"b e n\", \"ben\", x)\n",
    "  x = re.sub(r\"s a t i r e\", \"satire\", x)\n",
    "  x = re.sub(r\"y i k e s\", \"yikes\", x)\n",
    "  x = re.sub(r\"s p o i l e r\", \"spoiler\", x)\n",
    "  x = re.sub(r\"thankyou\", \"thank you\", x)\n",
    "  x = re.sub(r\"a^r^o^o^o^o^o^o^o^n^d\", \"around\", x)\n",
    "\n",
    "  # Remove special characters and numbers replace by space + remove double space\n",
    "  x = re.sub(r\"\\b([.]{3,})\",\" dots \", x)\n",
    "  x = re.sub(r\"[^A-Za-z!?_]+\",\" \", x)\n",
    "  x = re.sub(r\"\\b([s])\\b *\",\"\", x)\n",
    "  x = re.sub(r\" +\",\" \", x)\n",
    "  x = x.strip()\n",
    "\n",
    "  return x"
   ]
  },
  {
   "cell_type": "code",
   "execution_count": 68,
   "metadata": {
    "id": "G1nMceXI0ZPc",
    "outputId": "7a2d2c41-700d-4ab0-8ba1-63d02657c6f1"
   },
   "outputs": [
    {
     "data": {
      "text/html": [
       "<div>\n",
       "<style scoped>\n",
       "    .dataframe tbody tr th:only-of-type {\n",
       "        vertical-align: middle;\n",
       "    }\n",
       "\n",
       "    .dataframe tbody tr th {\n",
       "        vertical-align: top;\n",
       "    }\n",
       "\n",
       "    .dataframe thead th {\n",
       "        text-align: right;\n",
       "    }\n",
       "</style>\n",
       "<table border=\"1\" class=\"dataframe\">\n",
       "  <thead>\n",
       "    <tr style=\"text-align: right;\">\n",
       "      <th></th>\n",
       "      <th>text</th>\n",
       "      <th>clean_text</th>\n",
       "    </tr>\n",
       "  </thead>\n",
       "  <tbody>\n",
       "    <tr>\n",
       "      <th>233</th>\n",
       "      <td>Fast forward a year to beginning of hs this ye...</td>\n",
       "      <td>fast forward a year to beginning of hs this year</td>\n",
       "    </tr>\n",
       "    <tr>\n",
       "      <th>461</th>\n",
       "      <td>A strangely calming breeze crosses my face and...</td>\n",
       "      <td>a strangely calming breeze crosses my face and...</td>\n",
       "    </tr>\n",
       "    <tr>\n",
       "      <th>2479</th>\n",
       "      <td>I drain the last of my beer and the wrap my ar...</td>\n",
       "      <td>i drain the last of my beer and the wrap my ar...</td>\n",
       "    </tr>\n",
       "    <tr>\n",
       "      <th>1347</th>\n",
       "      <td>Not too bad but never really clicked.</td>\n",
       "      <td>not too bad but never really clicked</td>\n",
       "    </tr>\n",
       "    <tr>\n",
       "      <th>1001</th>\n",
       "      <td>\"Perhaps I'll alter the whole thing.</td>\n",
       "      <td>perhaps i will alter the whole thing</td>\n",
       "    </tr>\n",
       "  </tbody>\n",
       "</table>\n",
       "</div>"
      ],
      "text/plain": [
       "                                                   text  \\\n",
       "233   Fast forward a year to beginning of hs this ye...   \n",
       "461   A strangely calming breeze crosses my face and...   \n",
       "2479  I drain the last of my beer and the wrap my ar...   \n",
       "1347              Not too bad but never really clicked.   \n",
       "1001               \"Perhaps I'll alter the whole thing.   \n",
       "\n",
       "                                             clean_text  \n",
       "233    fast forward a year to beginning of hs this year  \n",
       "461   a strangely calming breeze crosses my face and...  \n",
       "2479  i drain the last of my beer and the wrap my ar...  \n",
       "1347               not too bad but never really clicked  \n",
       "1001               perhaps i will alter the whole thing  "
      ]
     },
     "metadata": {},
     "output_type": "display_data"
    }
   ],
   "source": [
    "# Applying the preprocessing function on the dataset\n",
    "clean_train_df[\"clean_text\"] = clean_train_df[\"text\"].apply(preprocess_data)\n",
    "\n",
    "# Preview of data\n",
    "display(clean_train_df[['text', 'clean_text']].sample(5))"
   ]
  },
  {
   "cell_type": "code",
   "execution_count": 69,
   "metadata": {
    "id": "ueDLACL_0ZPc",
    "outputId": "96d3a66b-1e61-4a9a-f7b8-3904998b3554"
   },
   "outputs": [
    {
     "data": {
      "text/html": [
       "<div>\n",
       "<style scoped>\n",
       "    .dataframe tbody tr th:only-of-type {\n",
       "        vertical-align: middle;\n",
       "    }\n",
       "\n",
       "    .dataframe tbody tr th {\n",
       "        vertical-align: top;\n",
       "    }\n",
       "\n",
       "    .dataframe thead th {\n",
       "        text-align: right;\n",
       "    }\n",
       "</style>\n",
       "<table border=\"1\" class=\"dataframe\">\n",
       "  <thead>\n",
       "    <tr style=\"text-align: right;\">\n",
       "      <th></th>\n",
       "      <th>clean_text</th>\n",
       "      <th>id</th>\n",
       "      <th>anger</th>\n",
       "      <th>fear</th>\n",
       "      <th>joy</th>\n",
       "      <th>sadness</th>\n",
       "      <th>surprise</th>\n",
       "    </tr>\n",
       "  </thead>\n",
       "  <tbody>\n",
       "    <tr>\n",
       "      <th>0</th>\n",
       "      <td>but not very happy</td>\n",
       "      <td>eng_train_track_a_00001</td>\n",
       "      <td>0</td>\n",
       "      <td>0</td>\n",
       "      <td>1</td>\n",
       "      <td>1</td>\n",
       "      <td>0</td>\n",
       "    </tr>\n",
       "    <tr>\n",
       "      <th>1</th>\n",
       "      <td>well she is not gon na last the whole song lik...</td>\n",
       "      <td>eng_train_track_a_00002</td>\n",
       "      <td>0</td>\n",
       "      <td>0</td>\n",
       "      <td>1</td>\n",
       "      <td>0</td>\n",
       "      <td>0</td>\n",
       "    </tr>\n",
       "    <tr>\n",
       "      <th>2</th>\n",
       "      <td>she sat at her papa recliner sofa only to move...</td>\n",
       "      <td>eng_train_track_a_00003</td>\n",
       "      <td>0</td>\n",
       "      <td>0</td>\n",
       "      <td>0</td>\n",
       "      <td>0</td>\n",
       "      <td>0</td>\n",
       "    </tr>\n",
       "  </tbody>\n",
       "</table>\n",
       "</div>"
      ],
      "text/plain": [
       "                                          clean_text                       id  \\\n",
       "0                                 but not very happy  eng_train_track_a_00001   \n",
       "1  well she is not gon na last the whole song lik...  eng_train_track_a_00002   \n",
       "2  she sat at her papa recliner sofa only to move...  eng_train_track_a_00003   \n",
       "\n",
       "   anger  fear  joy  sadness  surprise  \n",
       "0      0     0    1        1         0  \n",
       "1      0     0    1        0         0  \n",
       "2      0     0    0        0         0  "
      ]
     },
     "metadata": {},
     "output_type": "display_data"
    }
   ],
   "source": [
    "# Dropping raw text column\n",
    "df_all = clean_train_df[ ['clean_text'] + [ col for col in clean_train_df.columns if col not in ['text', 'clean_text'] ] ]\n",
    "\n",
    "# Preview of data\n",
    "display(df_all.head(3))"
   ]
  },
  {
   "cell_type": "markdown",
   "metadata": {
    "id": "fu21dqT30ZPd"
   },
   "source": [
    "# Exploratory Data Analysis"
   ]
  },
  {
   "cell_type": "code",
   "execution_count": 70,
   "metadata": {
    "id": "UmoAKX2c0ZPd"
   },
   "outputs": [],
   "source": [
    "# Define the sizes for train, validation, and test sets\n",
    "size_train = int(0.8 * len(df_all))\n",
    "size_val = int(0.1 * len(df_all))\n",
    "size_test = len(df_all) - size_train - size_val\n",
    "\n",
    "# Building a function that will divide in train, validation and test sets\n",
    "def get_train_val_test(df):\n",
    "    train = df.iloc[:size_train, :]\n",
    "    val = df.iloc[size_train:size_train+size_val, :]\n",
    "    test = df.iloc[size_train+size_val:size_train+size_val+size_test, :]\n",
    "    return train, val, test"
   ]
  },
  {
   "cell_type": "code",
   "execution_count": 71,
   "metadata": {
    "id": "14T6zYrt0ZPd",
    "outputId": "d48b942b-8210-414f-b660-3fb4e8875624"
   },
   "outputs": [
    {
     "name": "stdout",
     "output_type": "stream",
     "text": [
      "(2214, 7)\n",
      "(276, 7)\n",
      "(278, 7)\n"
     ]
    }
   ],
   "source": [
    "# Dividing back in train, validation and test datasets\n",
    "train_data, val_data, test_data = get_train_val_test(df_all)\n",
    "print(train_data.shape)\n",
    "print(val_data.shape)\n",
    "print(test_data.shape)"
   ]
  },
  {
   "cell_type": "code",
   "execution_count": 72,
   "metadata": {
    "id": "oIH2VJJD0ZPd",
    "outputId": "01116574-fe6b-4670-cda2-9a5010791d3a"
   },
   "outputs": [
    {
     "data": {
      "text/html": [
       "<div>\n",
       "<style scoped>\n",
       "    .dataframe tbody tr th:only-of-type {\n",
       "        vertical-align: middle;\n",
       "    }\n",
       "\n",
       "    .dataframe tbody tr th {\n",
       "        vertical-align: top;\n",
       "    }\n",
       "\n",
       "    .dataframe thead th {\n",
       "        text-align: right;\n",
       "    }\n",
       "</style>\n",
       "<table border=\"1\" class=\"dataframe\">\n",
       "  <thead>\n",
       "    <tr style=\"text-align: right;\">\n",
       "      <th></th>\n",
       "      <th>clean_text</th>\n",
       "      <th>id</th>\n",
       "      <th>anger</th>\n",
       "      <th>fear</th>\n",
       "      <th>joy</th>\n",
       "      <th>sadness</th>\n",
       "      <th>surprise</th>\n",
       "    </tr>\n",
       "  </thead>\n",
       "  <tbody>\n",
       "    <tr>\n",
       "      <th>0</th>\n",
       "      <td>but not very happy</td>\n",
       "      <td>eng_train_track_a_00001</td>\n",
       "      <td>0</td>\n",
       "      <td>0</td>\n",
       "      <td>1</td>\n",
       "      <td>1</td>\n",
       "      <td>0</td>\n",
       "    </tr>\n",
       "    <tr>\n",
       "      <th>1</th>\n",
       "      <td>well she is not gon na last the whole song lik...</td>\n",
       "      <td>eng_train_track_a_00002</td>\n",
       "      <td>0</td>\n",
       "      <td>0</td>\n",
       "      <td>1</td>\n",
       "      <td>0</td>\n",
       "      <td>0</td>\n",
       "    </tr>\n",
       "    <tr>\n",
       "      <th>2</th>\n",
       "      <td>she sat at her papa recliner sofa only to move...</td>\n",
       "      <td>eng_train_track_a_00003</td>\n",
       "      <td>0</td>\n",
       "      <td>0</td>\n",
       "      <td>0</td>\n",
       "      <td>0</td>\n",
       "      <td>0</td>\n",
       "    </tr>\n",
       "    <tr>\n",
       "      <th>3</th>\n",
       "      <td>yes the oklahoma city bombing</td>\n",
       "      <td>eng_train_track_a_00004</td>\n",
       "      <td>1</td>\n",
       "      <td>1</td>\n",
       "      <td>0</td>\n",
       "      <td>1</td>\n",
       "      <td>1</td>\n",
       "    </tr>\n",
       "    <tr>\n",
       "      <th>4</th>\n",
       "      <td>they were dancing to bolero</td>\n",
       "      <td>eng_train_track_a_00005</td>\n",
       "      <td>0</td>\n",
       "      <td>0</td>\n",
       "      <td>1</td>\n",
       "      <td>0</td>\n",
       "      <td>0</td>\n",
       "    </tr>\n",
       "  </tbody>\n",
       "</table>\n",
       "</div>"
      ],
      "text/plain": [
       "                                          clean_text                       id  \\\n",
       "0                                 but not very happy  eng_train_track_a_00001   \n",
       "1  well she is not gon na last the whole song lik...  eng_train_track_a_00002   \n",
       "2  she sat at her papa recliner sofa only to move...  eng_train_track_a_00003   \n",
       "3                      yes the oklahoma city bombing  eng_train_track_a_00004   \n",
       "4                        they were dancing to bolero  eng_train_track_a_00005   \n",
       "\n",
       "   anger  fear  joy  sadness  surprise  \n",
       "0      0     0    1        1         0  \n",
       "1      0     0    1        0         0  \n",
       "2      0     0    0        0         0  \n",
       "3      1     1    0        1         1  \n",
       "4      0     0    1        0         0  "
      ]
     },
     "metadata": {},
     "output_type": "display_data"
    }
   ],
   "source": [
    "# # Preview of data\n",
    "display(train_data.head(5))"
   ]
  },
  {
   "cell_type": "code",
   "execution_count": 73,
   "metadata": {
    "id": "XqtHd9lS0ZPd",
    "outputId": "a5eaafee-838f-4565-b826-e85f5769b822"
   },
   "outputs": [
    {
     "name": "stderr",
     "output_type": "stream",
     "text": [
      "C:\\Users\\Prerana\\AppData\\Local\\Temp\\ipykernel_4648\\1304113005.py:5: SettingWithCopyWarning: \n",
      "A value is trying to be set on a copy of a slice from a DataFrame.\n",
      "Try using .loc[row_indexer,col_indexer] = value instead\n",
      "\n",
      "See the caveats in the documentation: https://pandas.pydata.org/pandas-docs/stable/user_guide/indexing.html#returning-a-view-versus-a-copy\n",
      "  train_data['Cardinality'] = train_data.loc[:,emotions].apply(lambda x: sum(x), axis=1)\n"
     ]
    },
    {
     "data": {
      "text/html": [
       "<div>\n",
       "<style scoped>\n",
       "    .dataframe tbody tr th:only-of-type {\n",
       "        vertical-align: middle;\n",
       "    }\n",
       "\n",
       "    .dataframe tbody tr th {\n",
       "        vertical-align: top;\n",
       "    }\n",
       "\n",
       "    .dataframe thead th {\n",
       "        text-align: right;\n",
       "    }\n",
       "</style>\n",
       "<table border=\"1\" class=\"dataframe\">\n",
       "  <thead>\n",
       "    <tr style=\"text-align: right;\">\n",
       "      <th></th>\n",
       "      <th>clean_text</th>\n",
       "      <th>id</th>\n",
       "      <th>anger</th>\n",
       "      <th>fear</th>\n",
       "      <th>joy</th>\n",
       "      <th>sadness</th>\n",
       "      <th>surprise</th>\n",
       "      <th>Cardinality</th>\n",
       "    </tr>\n",
       "  </thead>\n",
       "  <tbody>\n",
       "    <tr>\n",
       "      <th>0</th>\n",
       "      <td>but not very happy</td>\n",
       "      <td>eng_train_track_a_00001</td>\n",
       "      <td>0</td>\n",
       "      <td>0</td>\n",
       "      <td>1</td>\n",
       "      <td>1</td>\n",
       "      <td>0</td>\n",
       "      <td>2</td>\n",
       "    </tr>\n",
       "    <tr>\n",
       "      <th>1</th>\n",
       "      <td>well she is not gon na last the whole song lik...</td>\n",
       "      <td>eng_train_track_a_00002</td>\n",
       "      <td>0</td>\n",
       "      <td>0</td>\n",
       "      <td>1</td>\n",
       "      <td>0</td>\n",
       "      <td>0</td>\n",
       "      <td>1</td>\n",
       "    </tr>\n",
       "    <tr>\n",
       "      <th>2</th>\n",
       "      <td>she sat at her papa recliner sofa only to move...</td>\n",
       "      <td>eng_train_track_a_00003</td>\n",
       "      <td>0</td>\n",
       "      <td>0</td>\n",
       "      <td>0</td>\n",
       "      <td>0</td>\n",
       "      <td>0</td>\n",
       "      <td>0</td>\n",
       "    </tr>\n",
       "  </tbody>\n",
       "</table>\n",
       "</div>"
      ],
      "text/plain": [
       "                                          clean_text                       id  \\\n",
       "0                                 but not very happy  eng_train_track_a_00001   \n",
       "1  well she is not gon na last the whole song lik...  eng_train_track_a_00002   \n",
       "2  she sat at her papa recliner sofa only to move...  eng_train_track_a_00003   \n",
       "\n",
       "   anger  fear  joy  sadness  surprise  Cardinality  \n",
       "0      0     0    1        1         0            2  \n",
       "1      0     0    1        0         0            1  \n",
       "2      0     0    0        0         0            0  "
      ]
     },
     "metadata": {},
     "output_type": "display_data"
    }
   ],
   "source": [
    "# Define Emotions as the list of emotion columns\n",
    "emotions = ['anger', 'fear', 'joy', 'sadness', 'surprise']\n",
    "\n",
    "# Computing the number of labels for each sample\n",
    "train_data['Cardinality'] = train_data.loc[:,emotions].apply(lambda x: sum(x), axis=1)\n",
    "\n",
    "# Preview of data\n",
    "display(train_data.head(3))"
   ]
  },
  {
   "cell_type": "code",
   "execution_count": 74,
   "metadata": {
    "id": "0NvxaYTB0ZPd",
    "outputId": "9c0be85c-2f99-46f7-f20d-76aa2752e879"
   },
   "outputs": [
    {
     "data": {
      "text/plain": [
       "Cardinality\n",
       "1    908\n",
       "2    842\n",
       "3    233\n",
       "0    185\n",
       "4     45\n",
       "5      1\n",
       "Name: count, dtype: int64"
      ]
     },
     "execution_count": 74,
     "metadata": {},
     "output_type": "execute_result"
    }
   ],
   "source": [
    "# Possible number of emotions per sample in our dataset\n",
    "train_data['Cardinality'].value_counts()"
   ]
  },
  {
   "cell_type": "markdown",
   "metadata": {
    "id": "JrYvAjmY3Rjp"
   },
   "source": [
    "Number of Emotions per sample in the dataset"
   ]
  },
  {
   "cell_type": "code",
   "execution_count": 75,
   "metadata": {
    "id": "B2XBXJk00ZPe",
    "outputId": "6d17f4d3-6e80-45b6-ad0e-10c0cf22888b"
   },
   "outputs": [
    {
     "name": "stderr",
     "output_type": "stream",
     "text": [
      "C:\\Users\\Prerana\\AppData\\Local\\Temp\\ipykernel_4648\\3350011012.py:4: FutureWarning: \n",
      "\n",
      "Passing `palette` without assigning `hue` is deprecated and will be removed in v0.14.0. Assign the `x` variable to `hue` and set `legend=False` for the same effect.\n",
      "\n",
      "  ax = sns.countplot(x='Cardinality', data=train_data, palette='Spectral')\n"
     ]
    },
    {
     "data": {
      "image/png": "[encoded data removed]",
      "text/plain": [
       "<Figure size 800x800 with 1 Axes>"
      ]
     },
     "metadata": {},
     "output_type": "display_data"
    }
   ],
   "source": [
    "# Cardinality of Emotions and labels across the dataset\n",
    "plt.figure(figsize=(8,8))\n",
    "\n",
    "ax = sns.countplot(x='Cardinality', data=train_data, palette='Spectral')\n",
    "\n",
    "for p in ax.patches:\n",
    "  value = p.get_height()\n",
    "  x = p.get_x() + p.get_width() - 0.5\n",
    "  y = p.get_y() + p.get_height() + 1000\n",
    "  ax.annotate(value, (x, y))\n",
    "\n",
    "\n",
    "plt.title(\"Number of samples per emotions\", fontweight='bold')\n",
    "plt.ylabel(\"Number of samples in the dataset\", fontweight='bold')\n",
    "plt.xlabel(\"Number of emotions in a sample\", fontweight='bold')\n",
    "plt.show()\n"
   ]
  },
  {
   "cell_type": "code",
   "execution_count": 78,
   "metadata": {
    "id": "yQmxrLMU0ZPe"
   },
   "outputs": [],
   "source": [
    "# Computing number of samples per emotion\n",
    "classes_GE_count = train_data.loc[:,emotions].sum(axis=0).sort_values(ascending=False)"
   ]
  },
  {
   "cell_type": "code",
   "execution_count": 86,
   "metadata": {
    "id": "pibCqGDL0ZPe",
    "outputId": "d92d95e0-8e58-4335-b043-1ce929358147"
   },
   "outputs": [
    {
     "name": "stderr",
     "output_type": "stream",
     "text": [
      "C:\\Users\\Prerana\\AppData\\Local\\Temp\\ipykernel_4648\\3459641441.py:3: FutureWarning: \n",
      "\n",
      "Passing `palette` without assigning `hue` is deprecated and will be removed in v0.14.0. Assign the `y` variable to `hue` and set `legend=False` for the same effect.\n",
      "\n",
      "  ax = sns.barplot(x=classes_GE_count.values, y=classes_GE_count.index, orient='h', palette=\"viridis\")\n"
     ]
    },
    {
     "data": {
      "image/png": "[encoded data removed]",
      "text/plain": [
       "<Figure size 800x800 with 1 Axes>"
      ]
     },
     "metadata": {},
     "output_type": "display_data"
    }
   ],
   "source": [
    "# Visualizing the number of samples per classes\n",
    "plt.figure(figsize=(8,8))\n",
    "ax = sns.barplot(x=classes_GE_count.values, y=classes_GE_count.index, orient='h', palette=\"viridis\")\n",
    "\n",
    "for p in ax.patches:\n",
    "  value = int(p.get_width())\n",
    "  x = p.get_x() + p.get_width() + 30\n",
    "  y = p.get_y() + p.get_height()/2\n",
    "  ax.annotate(value, (x, y))\n",
    "\n",
    "plt.title(\"Emotions : Number of samples per emotion\", fontweight='bold')\n",
    "plt.ylabel(\"Emotions\", fontweight='bold')\n",
    "plt.xlabel(\"Number of samples\", fontweight='bold')\n",
    "plt.savefig('D:/Drive D/TU_Dresden/STUDY/LLM/semeval_project/semeval_project/figures/emotions.png')\n",
    "plt.show()\n",
    "\n",
    "# save this figure in pdf format\n",
    "#plt.savefig('D:/Drive D/TU_Dresden/STUDY/LLM/semeval_project/semeval_project/figures/num_samples_per_emotion.pdf')\n",
    "\n",
    "\n"
   ]
  },
  {
   "cell_type": "code",
   "execution_count": 42,
   "metadata": {
    "id": "ta_jtA-80ZPe"
   },
   "outputs": [],
   "source": [
    "# Write the graph analysis (checkkkk)\n",
    "# Number of samples per emotion in the dataset\n",
    "with open('graph_analysis.txt', 'w') as f:\n",
    "    f.write(\"Number of samples per emotion in the dataset\\n\")\n",
    "    f.write(\"=============================================\\n\")\n",
    "    f.write(\"\\n\")\n",
    "    f.write(\"The number of samples per emotion in the GoEmotions dataset are as follows:\\n\")\n",
    "    f.write(\"\\n\")\n",
    "    f.write(f\"Anger: {classes_GE_count['anger']}\\n\")\n",
    "    f.write(f\"Fear: {classes_GE_count['fear']}\\n\")\n",
    "    f.write(f\"Joy: {classes_GE_count['joy']}\\n\")\n",
    "    f.write(f\"Sadness: {classes_GE_count['sadness']}\\n\")\n",
    "    f.write(f\"Surprise: {classes_GE_count['surprise']}\\n\")\n",
    "    f.write(\"\\n\")\n"
   ]
  },
  {
   "cell_type": "markdown",
   "metadata": {
    "id": "Hit30Fcv3f-O"
   },
   "source": [
    "Classe balance accross train, validation and test datasets"
   ]
  },
  {
   "cell_type": "code",
   "execution_count": 46,
   "metadata": {
    "id": "EjwmueLQ0ZPe",
    "outputId": "009d3b83-f081-4e0d-f1fe-9e9caa2c7445"
   },
   "outputs": [
    {
     "data": {
      "text/html": [
       "<div>\n",
       "<style scoped>\n",
       "    .dataframe tbody tr th:only-of-type {\n",
       "        vertical-align: middle;\n",
       "    }\n",
       "\n",
       "    .dataframe tbody tr th {\n",
       "        vertical-align: top;\n",
       "    }\n",
       "\n",
       "    .dataframe thead th {\n",
       "        text-align: right;\n",
       "    }\n",
       "</style>\n",
       "<table border=\"1\" class=\"dataframe\">\n",
       "  <thead>\n",
       "    <tr style=\"text-align: right;\">\n",
       "      <th></th>\n",
       "      <th>Emotion</th>\n",
       "      <th>Dataset</th>\n",
       "      <th>Percentage</th>\n",
       "    </tr>\n",
       "  </thead>\n",
       "  <tbody>\n",
       "    <tr>\n",
       "      <th>0</th>\n",
       "      <td>fear</td>\n",
       "      <td>Train</td>\n",
       "      <td>58.491418</td>\n",
       "    </tr>\n",
       "    <tr>\n",
       "      <th>1</th>\n",
       "      <td>sadness</td>\n",
       "      <td>Train</td>\n",
       "      <td>32.023487</td>\n",
       "    </tr>\n",
       "    <tr>\n",
       "      <th>2</th>\n",
       "      <td>surprise</td>\n",
       "      <td>Train</td>\n",
       "      <td>30.261969</td>\n",
       "    </tr>\n",
       "    <tr>\n",
       "      <th>3</th>\n",
       "      <td>joy</td>\n",
       "      <td>Train</td>\n",
       "      <td>24.299910</td>\n",
       "    </tr>\n",
       "    <tr>\n",
       "      <th>4</th>\n",
       "      <td>anger</td>\n",
       "      <td>Train</td>\n",
       "      <td>11.924119</td>\n",
       "    </tr>\n",
       "  </tbody>\n",
       "</table>\n",
       "</div>"
      ],
      "text/plain": [
       "    Emotion Dataset  Percentage\n",
       "0      fear   Train   58.491418\n",
       "1   sadness   Train   32.023487\n",
       "2  surprise   Train   30.261969\n",
       "3       joy   Train   24.299910\n",
       "4     anger   Train   11.924119"
      ]
     },
     "metadata": {},
     "output_type": "display_data"
    }
   ],
   "source": [
    "# Defining classes representation for each dataset\n",
    "train_count_GE = (train_data.loc[:, emotions].sum(axis=0) / size_train)*100\n",
    "val_count_GE = (val_data.loc[:, emotions].sum(axis=0) / size_val)*100\n",
    "test_count_GE = (test_data.loc[:, emotions].sum(axis=0) / size_test)*100\n",
    "\n",
    "# Constructing a unique dataset for visualization purposes\n",
    "balance_GE = pd.DataFrame(data=[train_count_GE, val_count_GE, test_count_GE]).T.reset_index(drop=False)\n",
    "balance_GE.columns = ['Emotion', 'Train', 'Validation', 'Test']\n",
    "balance_GE = balance_GE.sort_values('Train', ascending=False)\n",
    "balance_GE = balance_GE.melt(id_vars='Emotion', var_name='Dataset', value_vars=['Train','Validation', 'Test'], value_name='Percentage')\n",
    "\n",
    "# Preview of data\n",
    "display(balance_GE.head())"
   ]
  },
  {
   "cell_type": "code",
   "execution_count": 48,
   "metadata": {
    "id": "tj17O-6b0ZPe",
    "outputId": "9ad5eea6-1727-4dc4-e303-edb5dd658299"
   },
   "outputs": [
    {
     "data": {
      "image/png": "[encoded data removed]",
      "text/plain": [
       "<Figure size 500x500 with 1 Axes>"
      ]
     },
     "metadata": {},
     "output_type": "display_data"
    }
   ],
   "source": [
    "# Classe Balance visualization on Emotions\n",
    "plt.figure(figsize=(5,5))\n",
    "sns.barplot(x='Percentage', y='Emotion', data=balance_GE, orient='h', hue='Dataset', palette=\"viridis\")\n",
    "plt.title(\"Emotions : Percentage of samples per emotion in the train, validation and test datasets\", fontweight='bold')\n",
    "plt.ylabel(\"Emotions\", fontweight='bold')\n",
    "plt.xlabel(\"Percentage of all samples\", fontweight='bold')\n",
    "plt.show()"
   ]
  },
  {
   "cell_type": "markdown",
   "metadata": {
    "id": "onX2vRpy4fna"
   },
   "source": [
    "Word Analysis"
   ]
  },
  {
   "cell_type": "code",
   "execution_count": 50,
   "metadata": {
    "id": "x3QOCJt90ZPf",
    "outputId": "0a640a6a-9150-4c84-b641-98b171015950"
   },
   "outputs": [
    {
     "name": "stderr",
     "output_type": "stream",
     "text": [
      "C:\\Users\\Prerana\\AppData\\Local\\Temp\\ipykernel_4648\\2828727947.py:3: SettingWithCopyWarning: \n",
      "A value is trying to be set on a copy of a slice from a DataFrame.\n",
      "Try using .loc[row_indexer,col_indexer] = value instead\n",
      "\n",
      "See the caveats in the documentation: https://pandas.pydata.org/pandas-docs/stable/user_guide/indexing.html#returning-a-view-versus-a-copy\n",
      "  train_data['Nb_words'] = train_data['clean_text'].apply(lambda x: len(x.split()))\n"
     ]
    },
    {
     "data": {
      "text/html": [
       "<div>\n",
       "<style scoped>\n",
       "    .dataframe tbody tr th:only-of-type {\n",
       "        vertical-align: middle;\n",
       "    }\n",
       "\n",
       "    .dataframe tbody tr th {\n",
       "        vertical-align: top;\n",
       "    }\n",
       "\n",
       "    .dataframe thead th {\n",
       "        text-align: right;\n",
       "    }\n",
       "</style>\n",
       "<table border=\"1\" class=\"dataframe\">\n",
       "  <thead>\n",
       "    <tr style=\"text-align: right;\">\n",
       "      <th></th>\n",
       "      <th>clean_text</th>\n",
       "      <th>id</th>\n",
       "      <th>anger</th>\n",
       "      <th>fear</th>\n",
       "      <th>joy</th>\n",
       "      <th>sadness</th>\n",
       "      <th>surprise</th>\n",
       "      <th>Cardinality</th>\n",
       "      <th>Nb_words</th>\n",
       "    </tr>\n",
       "  </thead>\n",
       "  <tbody>\n",
       "    <tr>\n",
       "      <th>0</th>\n",
       "      <td>but not very happy</td>\n",
       "      <td>eng_train_track_a_00001</td>\n",
       "      <td>0</td>\n",
       "      <td>0</td>\n",
       "      <td>1</td>\n",
       "      <td>1</td>\n",
       "      <td>0</td>\n",
       "      <td>2</td>\n",
       "      <td>4</td>\n",
       "    </tr>\n",
       "    <tr>\n",
       "      <th>1</th>\n",
       "      <td>well she is not gon na last the whole song lik...</td>\n",
       "      <td>eng_train_track_a_00002</td>\n",
       "      <td>0</td>\n",
       "      <td>0</td>\n",
       "      <td>1</td>\n",
       "      <td>0</td>\n",
       "      <td>0</td>\n",
       "      <td>1</td>\n",
       "      <td>42</td>\n",
       "    </tr>\n",
       "    <tr>\n",
       "      <th>2</th>\n",
       "      <td>she sat at her papa recliner sofa only to move...</td>\n",
       "      <td>eng_train_track_a_00003</td>\n",
       "      <td>0</td>\n",
       "      <td>0</td>\n",
       "      <td>0</td>\n",
       "      <td>0</td>\n",
       "      <td>0</td>\n",
       "      <td>0</td>\n",
       "      <td>19</td>\n",
       "    </tr>\n",
       "  </tbody>\n",
       "</table>\n",
       "</div>"
      ],
      "text/plain": [
       "                                          clean_text                       id  \\\n",
       "0                                 but not very happy  eng_train_track_a_00001   \n",
       "1  well she is not gon na last the whole song lik...  eng_train_track_a_00002   \n",
       "2  she sat at her papa recliner sofa only to move...  eng_train_track_a_00003   \n",
       "\n",
       "   anger  fear  joy  sadness  surprise  Cardinality  Nb_words  \n",
       "0      0     0    1        1         0            2         4  \n",
       "1      0     0    1        0         0            1        42  \n",
       "2      0     0    0        0         0            0        19  "
      ]
     },
     "metadata": {},
     "output_type": "display_data"
    }
   ],
   "source": [
    "# Mean length of samples per emotion\n",
    "# Computing the number of words per sample\n",
    "train_data['Nb_words'] = train_data['clean_text'].apply(lambda x: len(x.split()))\n",
    "\n",
    "# Preview of data\n",
    "display(train_data.head(3))"
   ]
  },
  {
   "cell_type": "code",
   "execution_count": 51,
   "metadata": {
    "id": "LrHVAoFt0ZPf",
    "outputId": "bf1c6b6c-11c2-430e-a8db-a80e3a4dfd13"
   },
   "outputs": [
    {
     "data": {
      "text/html": [
       "<div>\n",
       "<style scoped>\n",
       "    .dataframe tbody tr th:only-of-type {\n",
       "        vertical-align: middle;\n",
       "    }\n",
       "\n",
       "    .dataframe tbody tr th {\n",
       "        vertical-align: top;\n",
       "    }\n",
       "\n",
       "    .dataframe thead th {\n",
       "        text-align: right;\n",
       "    }\n",
       "</style>\n",
       "<table border=\"1\" class=\"dataframe\">\n",
       "  <thead>\n",
       "    <tr style=\"text-align: right;\">\n",
       "      <th></th>\n",
       "      <th>Mean_length</th>\n",
       "    </tr>\n",
       "  </thead>\n",
       "  <tbody>\n",
       "    <tr>\n",
       "      <th>joy</th>\n",
       "      <td>16.63</td>\n",
       "    </tr>\n",
       "    <tr>\n",
       "      <th>fear</th>\n",
       "      <td>16.19</td>\n",
       "    </tr>\n",
       "    <tr>\n",
       "      <th>sadness</th>\n",
       "      <td>16.01</td>\n",
       "    </tr>\n",
       "    <tr>\n",
       "      <th>anger</th>\n",
       "      <td>14.79</td>\n",
       "    </tr>\n",
       "    <tr>\n",
       "      <th>surprise</th>\n",
       "      <td>14.08</td>\n",
       "    </tr>\n",
       "  </tbody>\n",
       "</table>\n",
       "</div>"
      ],
      "text/plain": [
       "          Mean_length\n",
       "joy             16.63\n",
       "fear            16.19\n",
       "sadness         16.01\n",
       "anger           14.79\n",
       "surprise        14.08"
      ]
     },
     "execution_count": 51,
     "metadata": {},
     "output_type": "execute_result"
    }
   ],
   "source": [
    "# Computing the mean number of words per emotion\n",
    "mean_nb_words = {}\n",
    "for emo in emotions:\n",
    "  nb = train_data['Nb_words'].loc[train_data[emo]==1].mean()\n",
    "  mean_nb_words[emo] = round(nb,2)\n",
    "\n",
    "# Putting it in a Dataframe\n",
    "df_length_emo = pd.DataFrame.from_dict(mean_nb_words, orient='index')\n",
    "df_length_emo.columns = ['Mean_length']\n",
    "df_length_emo.sort_values('Mean_length', ascending=False, inplace=True)\n",
    "\n",
    "df_length_emo.head()"
   ]
  },
  {
   "cell_type": "markdown",
   "metadata": {
    "id": "Q4jlG3Xy4l9T"
   },
   "source": [
    "Mean leangth per emotion"
   ]
  },
  {
   "cell_type": "code",
   "execution_count": 52,
   "metadata": {
    "id": "nDJi_AXN0ZPf",
    "outputId": "74a1de3c-ade2-4b6e-8d79-b71c64dd5f03"
   },
   "outputs": [
    {
     "name": "stderr",
     "output_type": "stream",
     "text": [
      "C:\\Users\\Prerana\\AppData\\Local\\Temp\\ipykernel_4648\\1288132093.py:4: FutureWarning: \n",
      "\n",
      "Passing `palette` without assigning `hue` is deprecated and will be removed in v0.14.0. Assign the `y` variable to `hue` and set `legend=False` for the same effect.\n",
      "\n",
      "  ax = sns.barplot(x=df_length_emo['Mean_length'], y=df_length_emo.index, orient='h', palette=\"flare\")\n"
     ]
    },
    {
     "data": {
      "image/png": "[encoded data removed]",
      "text/plain": [
       "<Figure size 800x800 with 1 Axes>"
      ]
     },
     "metadata": {},
     "output_type": "display_data"
    }
   ],
   "source": [
    "# Visualizing the mean length of samples per emotion\n",
    "plt.figure(figsize=(8,8))\n",
    "\n",
    "ax = sns.barplot(x=df_length_emo['Mean_length'], y=df_length_emo.index, orient='h', palette=\"flare\")\n",
    "for p in ax.patches:\n",
    "  value = p.get_width()\n",
    "  x = p.get_x() + p.get_width() + 0.2\n",
    "  y = p.get_y() + p.get_height()/2\n",
    "  ax.annotate(value, (x, y))\n",
    "\n",
    "plt.title(\"Emotions : Mean length of samples per emotion\", fontweight='bold')\n",
    "plt.ylabel(\"Emotions \", fontweight='bold')\n",
    "plt.xlabel(\"Mean samples length\", fontweight='bold')\n",
    "plt.show()"
   ]
  },
  {
   "cell_type": "markdown",
   "metadata": {
    "id": "dPAaorlw4rVH"
   },
   "source": [
    "Top words per emotion"
   ]
  },
  {
   "cell_type": "code",
   "execution_count": 53,
   "metadata": {
    "id": "hmmHBB4H0ZPf"
   },
   "outputs": [],
   "source": [
    "# Function to display 10 most frequent words in a list of comments\n",
    "def plot_top_words_barchart(comments, axes):\n",
    "\n",
    "    comments = comments.str.split() # split each comment into a list of words\n",
    "    comments = comments.values.tolist() # from pandas series to lists of words\n",
    "    corpus = [word for sample in comments for word in sample if word not in list(STOP_WORDS)+[\"?\",\"!\",\"name\"]] # giant corpus of words excluding special characters\n",
    "    counter = Counter(corpus) # create a counter\n",
    "    most = counter.most_common(10) # retrieve the 10 most frequent words\n",
    "\n",
    "    # Plot the 10 top words and their frequencies\n",
    "    most = [(word, count) for (word, count) in most]\n",
    "    x, y = [], []\n",
    "    for word, count in most[:10]:\n",
    "      x.append(word)\n",
    "      y.append(count)\n",
    "    sns.barplot(x=y, y=x , ax=axes, palette=\"Set2\")"
   ]
  },
  {
   "cell_type": "code",
   "execution_count": 54,
   "metadata": {
    "id": "qcne-g8E0ZPf",
    "outputId": "b7f95706-2d44-423a-e397-b4ba35122818"
   },
   "outputs": [
    {
     "name": "stderr",
     "output_type": "stream",
     "text": [
      "C:\\Users\\Prerana\\AppData\\Local\\Temp\\ipykernel_4648\\4103296638.py:16: FutureWarning: \n",
      "\n",
      "Passing `palette` without assigning `hue` is deprecated and will be removed in v0.14.0. Assign the `y` variable to `hue` and set `legend=False` for the same effect.\n",
      "\n",
      "  sns.barplot(x=y, y=x , ax=axes, palette=\"Set2\")\n",
      "C:\\Users\\Prerana\\AppData\\Local\\Temp\\ipykernel_4648\\4103296638.py:16: FutureWarning: \n",
      "\n",
      "Passing `palette` without assigning `hue` is deprecated and will be removed in v0.14.0. Assign the `y` variable to `hue` and set `legend=False` for the same effect.\n",
      "\n",
      "  sns.barplot(x=y, y=x , ax=axes, palette=\"Set2\")\n",
      "C:\\Users\\Prerana\\AppData\\Local\\Temp\\ipykernel_4648\\4103296638.py:16: FutureWarning: \n",
      "\n",
      "Passing `palette` without assigning `hue` is deprecated and will be removed in v0.14.0. Assign the `y` variable to `hue` and set `legend=False` for the same effect.\n",
      "\n",
      "  sns.barplot(x=y, y=x , ax=axes, palette=\"Set2\")\n",
      "C:\\Users\\Prerana\\AppData\\Local\\Temp\\ipykernel_4648\\4103296638.py:16: FutureWarning: \n",
      "\n",
      "Passing `palette` without assigning `hue` is deprecated and will be removed in v0.14.0. Assign the `y` variable to `hue` and set `legend=False` for the same effect.\n",
      "\n",
      "  sns.barplot(x=y, y=x , ax=axes, palette=\"Set2\")\n",
      "C:\\Users\\Prerana\\AppData\\Local\\Temp\\ipykernel_4648\\4103296638.py:16: FutureWarning: \n",
      "\n",
      "Passing `palette` without assigning `hue` is deprecated and will be removed in v0.14.0. Assign the `y` variable to `hue` and set `legend=False` for the same effect.\n",
      "\n",
      "  sns.barplot(x=y, y=x , ax=axes, palette=\"Set2\")\n"
     ]
    },
    {
     "data": {
      "image/png": "[encoded data removed]",
      "text/plain": [
       "<Figure size 2500x1000 with 6 Axes>"
      ]
     },
     "metadata": {},
     "output_type": "display_data"
    }
   ],
   "source": [
    "# Displaying 10 most frequent words for each emotion\n",
    "fig, axes = plt.subplots(2, 3, figsize=(25, 10))  # Adjust the number of rows and columns as needed\n",
    "fig.suptitle('10 most frequent words for each emotion', fontweight=\"bold\", fontsize=20)\n",
    "\n",
    "for i, axi in enumerate(axes.flat):\n",
    "    if i < len(emotions):\n",
    "        plot_top_words_barchart(train_data.loc[train_data[emotions[i]]==1,\"clean_text\"], axi)\n",
    "        axi.set_title(emotions[i], fontweight=\"bold\")\n",
    "    else:\n",
    "        axi.axis('off')  # Turn off the axis if there is no corresponding emotion\n",
    "\n",
    "plt.tight_layout()\n",
    "fig.subplots_adjust(top=0.95)\n",
    "plt.show()"
   ]
  },
  {
   "cell_type": "code",
   "execution_count": null,
   "metadata": {
    "id": "Yu_xnUqE0ZPf"
   },
   "outputs": [],
   "source": [
    "# Exporting the data\n",
    "# Droping unecessary columns\n",
    "train_data = train_data[ ['clean_text'] + emotions ]\n",
    "\n",
    "# Saving datasets for modeling\n",
    "train_data.to_csv(\"D:/Drive D/TU_Dresden/STUDY/LLM/semeval_project/train_data.csv\", index = False)\n",
    "val_data.to_csv(\"D:/Drive D/TU_Dresden/STUDY/LLM/semeval_project/val_data.csv\", index = False)\n",
    "test_data.to_csv(\"D:/Drive D/TU_Dresden/STUDY/LLM/semeval_project/test_data.csv\", index = False)"
   ]
  }
 ],
 "metadata": {
  "colab": {
   "provenance": []
  },
  "kernelspec": {
   "display_name": "Python 3",
   "language": "python",
   "name": "python3"
  },
  "language_info": {
   "codemirror_mode": {
    "name": "ipython",
    "version": 3
   },
   "file_extension": ".py",
   "mimetype": "text/x-python",
   "name": "python",
   "nbconvert_exporter": "python",
   "pygments_lexer": "ipython3",
   "version": "3.12.4"
  }
 },
 "nbformat": 4,
 "nbformat_minor": 0
}
