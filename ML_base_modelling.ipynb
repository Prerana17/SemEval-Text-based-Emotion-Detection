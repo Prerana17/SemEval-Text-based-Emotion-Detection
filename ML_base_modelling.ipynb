{
 "cells": [
  {
   "cell_type": "markdown",
   "metadata": {
    "id": "DwIpNVJf5E5i"
   },
   "source": [
    "Building baseline ML model"
   ]
  },
  {
   "cell_type": "markdown",
   "metadata": {
    "id": "1_AmuVe05PYB"
   },
   "source": [
    "Importing libraries and loading data"
   ]
  },
  {
   "cell_type": "code",
   "execution_count": 51,
   "metadata": {
    "id": "zV02txmO46Wg",
    "outputId": "14877f2d-a5e7-4b63-9f2d-2eb4379adb5d"
   },
   "outputs": [
    {
     "name": "stdout",
     "output_type": "stream",
     "text": [
      "Requirement already satisfied: emoji in c:\\python312\\lib\\site-packages (2.14.0)\n",
      "Note: you may need to restart the kernel to use updated packages.\n"
     ]
    },
    {
     "name": "stderr",
     "output_type": "stream",
     "text": [
      "\n",
      "[notice] A new release of pip is available: 24.0 -> 24.3.1\n",
      "[notice] To update, run: python.exe -m pip install --upgrade pip\n"
     ]
    },
    {
     "name": "stdout",
     "output_type": "stream",
     "text": [
      "Requirement already satisfied: contractions in c:\\python312\\lib\\site-packages (0.1.73)Note: you may need to restart the kernel to use updated packages.\n"
     ]
    },
    {
     "name": "stderr",
     "output_type": "stream",
     "text": [
      "\n",
      "[notice] A new release of pip is available: 24.0 -> 24.3.1\n",
      "[notice] To update, run: python.exe -m pip install --upgrade pip\n"
     ]
    },
    {
     "name": "stdout",
     "output_type": "stream",
     "text": [
      "\n",
      "Requirement already satisfied: textsearch>=0.0.21 in c:\\python312\\lib\\site-packages (from contractions) (0.0.24)\n",
      "Requirement already satisfied: anyascii in c:\\python312\\lib\\site-packages (from textsearch>=0.0.21->contractions) (0.3.2)\n",
      "Requirement already satisfied: pyahocorasick in c:\\python312\\lib\\site-packages (from textsearch>=0.0.21->contractions) (2.1.0)\n"
     ]
    }
   ],
   "source": [
    "# Installing additional libraries for text preprocessing\n",
    "%pip install emoji\n",
    "%pip install contractions"
   ]
  },
  {
   "cell_type": "code",
   "execution_count": 52,
   "metadata": {
    "id": "yZbfrEFV46Wi"
   },
   "outputs": [],
   "source": [
    "# Data manipulation libraries\n",
    "import pandas as pd\n",
    "import numpy as np\n",
    "import json\n",
    "from pprint import pprint\n",
    "\n",
    "# Text processing libraries\n",
    "import emoji\n",
    "import re\n",
    "import contractions\n",
    "import spacy\n",
    "from spacy.lang.en.stop_words import STOP_WORDS\n",
    "\n",
    "# Scikit-Learn packages\n",
    "from sklearn.feature_extraction.text import TfidfVectorizer\n",
    "from sklearn.linear_model import RidgeClassifier\n",
    "from sklearn.multioutput import MultiOutputClassifier\n",
    "from sklearn.metrics import precision_recall_fscore_support\n",
    "\n",
    "\n",
    "import warnings\n",
    "warnings.simplefilter(action='ignore', category=FutureWarning)"
   ]
  },
  {
   "cell_type": "code",
   "execution_count": 53,
   "metadata": {
    "id": "2kwMnXLC46Wk",
    "outputId": "1934d34e-1cb7-412f-9f75-3d69ac3bac53"
   },
   "outputs": [
    {
     "name": "stdout",
     "output_type": "stream",
     "text": [
      "(2214, 6)\n",
      "(276, 7)\n",
      "(278, 7)\n"
     ]
    }
   ],
   "source": [
    "# Importing train, validation and test datasets with preprocessed texts and labels\n",
    "train_data = pd.read_csv(\"D:/Drive D/TU_Dresden/STUDY/LLM/semeval_project/semeval_project/data/train_data.csv\", index_col=False) \n",
    "val_data= pd.read_csv(\"D:/Drive D/TU_Dresden/STUDY/LLM/semeval_project/semeval_project/data/val_data.csv\", index_col=False)\n",
    "test_data= pd.read_csv(\"D:/Drive D/TU_Dresden/STUDY/LLM/semeval_project/semeval_project/data/test_data.csv\", index_col=False)\n",
    "\n",
    "# Shape validation\n",
    "print(train_data.shape)\n",
    "print(val_data.shape)\n",
    "print(test_data.shape)"
   ]
  },
  {
   "cell_type": "markdown",
   "metadata": {
    "id": "wsTjJVOn5T-z"
   },
   "source": [
    "Additional preprocessings for basic Machine Learning tasks"
   ]
  },
  {
   "cell_type": "code",
   "execution_count": 54,
   "metadata": {
    "id": "He1mZxLK46Wo"
   },
   "outputs": [],
   "source": [
    "# Additional text preprocessing\n",
    "train_data['clean_text'] = train_data['clean_text'].apply(lambda x: re.sub(r\"[^A-Za-z_]+\",\" \", x))\n",
    "test_data['clean_text'] = test_data['clean_text'].apply(lambda x: re.sub(r\"[^A-Za-z_]+\",\" \", x))"
   ]
  },
  {
   "cell_type": "code",
   "execution_count": 5,
   "metadata": {
    "id": "gFtySxqa46Wp",
    "outputId": "d3584a90-bea7-4e42-f440-e392dc8e4da7"
   },
   "outputs": [
    {
     "name": "stdout",
     "output_type": "stream",
     "text": [
      "\u001b[38;5;2m✔ Download and installation successful\u001b[0m\n",
      "You can now load the package via spacy.load('en_core_web_sm')\n"
     ]
    },
    {
     "name": "stderr",
     "output_type": "stream",
     "text": [
      "\n",
      "[notice] A new release of pip is available: 24.0 -> 24.3.1\n",
      "[notice] To update, run: python.exe -m pip install --upgrade pip\n"
     ]
    },
    {
     "name": "stdout",
     "output_type": "stream",
     "text": [
      "Requirement already satisfied: pip in c:\\python312\\lib\\site-packages (24.0)\n",
      "Collecting pip\n",
      "  Using cached pip-24.3.1-py3-none-any.whl.metadata (3.7 kB)\n",
      "Using cached pip-24.3.1-py3-none-any.whl (1.8 MB)\n",
      "Installing collected packages: pip\n",
      "  Attempting uninstall: pip\n",
      "    Found existing installation: pip 24.0\n",
      "    Uninstalling pip-24.0:\n",
      "Note: you may need to restart the kernel to use updated packages.\n"
     ]
    },
    {
     "name": "stderr",
     "output_type": "stream",
     "text": [
      "ERROR: Could not install packages due to an OSError: [WinError 5] Access is denied: 'c:\\\\python312\\\\lib\\\\site-packages\\\\pip-24.0.dist-info\\\\AUTHORS.txt'\n",
      "Consider using the `--user` option or check the permissions.\n",
      "\n",
      "\n",
      "[notice] A new release of pip is available: 24.0 -> 24.3.1\n",
      "[notice] To update, run: python.exe -m pip install --upgrade pip\n"
     ]
    }
   ],
   "source": [
    "# Download model\n",
    "!python -m spacy download en_core_web_sm -q\n",
    "\n",
    "%pip install --upgrade pip"
   ]
  },
  {
   "cell_type": "code",
   "execution_count": 55,
   "metadata": {
    "id": "bjTQeirm46Wq"
   },
   "outputs": [],
   "source": [
    "# Import English using en_core_web_sm.load()\n",
    "import spacy\n",
    "nlp = spacy.load(\"en_core_web_sm\")"
   ]
  },
  {
   "cell_type": "markdown",
   "metadata": {
    "id": "WUpNAFKy5gj6"
   },
   "source": [
    "Now creating a TF-IDF matrix that will help us represent each sample of our corpus using the importance and frequency of each word in the sample, but also in the whole corpus."
   ]
  },
  {
   "cell_type": "code",
   "execution_count": 56,
   "metadata": {
    "id": "zngnSDTq46Wr"
   },
   "outputs": [],
   "source": [
    "# create my own model which works as a spaCy pipeline\n",
    "def spacy_tokenizer(sentence):\n",
    "    # Creating our token object, which is used to create documents with linguistic annotations.\n",
    "    mytokens = nlp(sentence)\n",
    "\n",
    "    # Lemmatizing each token and converting each token into lowercase\n",
    "    mytokens = [ word.lemma_.lower().strip() if word.lemma_ != \"-PRON-\" else word.lower_ for word in mytokens ]\n",
    "\n",
    "    # Removing stop words\n",
    "    mytokens = [ word for word in mytokens if word not in STOP_WORDS and word not in ['\\n', '\\n\\n'] ]\n",
    "\n",
    "    # return preprocessed list of tokens\n",
    "    return mytokens"
   ]
  },
  {
   "cell_type": "code",
   "execution_count": 57,
   "metadata": {
    "id": "OtRo16dF46Wt"
   },
   "outputs": [],
   "source": [
    "# Creating tokenized documents\n",
    "tokenized_train_data = train_data[\"clean_text\"].apply(lambda desc: nlp(desc))\n",
    "tokenized_test_data = test_data[\"clean_text\"].apply(lambda desc: nlp(desc))"
   ]
  },
  {
   "cell_type": "code",
   "execution_count": 58,
   "metadata": {
    "id": "XYXBCtCh46Wt"
   },
   "outputs": [],
   "source": [
    "# Lemmatize each token and removing english stopwords\n",
    "tokenized_train_data = tokenized_train_data.apply(lambda x: [token.lemma_ for token in x if token.lemma_ not in STOP_WORDS])\n",
    "tokenized_test_data = tokenized_test_data.apply(lambda x: [token.lemma_ for token in x if token.lemma_ not in STOP_WORDS])\n",
    "\n",
    "# Creating clean data in our dataframes\n",
    "train_data[\"clean_token\"] = [\" \".join(x) for x in tokenized_train_data]\n",
    "test_data[\"clean_token\"] = [\" \".join(x) for x in tokenized_test_data]"
   ]
  },
  {
   "cell_type": "markdown",
   "metadata": {
    "id": "5JJ3u1W55o-5"
   },
   "source": [
    "Create TF-IDF matrix"
   ]
  },
  {
   "cell_type": "code",
   "execution_count": 59,
   "metadata": {
    "id": "PB7qBB0X46Wu",
    "outputId": "eea013d7-834d-4542-eba1-a3a6227d185f"
   },
   "outputs": [
    {
     "name": "stdout",
     "output_type": "stream",
     "text": [
      "(2214, 1000)\n",
      "(278, 1000)\n"
     ]
    }
   ],
   "source": [
    "# TF-IDF vector with 1000 words vocabulary\n",
    "vectorizer = TfidfVectorizer(stop_words=\"english\", max_features=1000)\n",
    "\n",
    "# Fitting the vectorizer and transforming train and test data\n",
    "tfidf_train_data = vectorizer.fit_transform(train_data['clean_token'])\n",
    "tfidf_test_data = vectorizer.transform(test_data['clean_token'])\n",
    "\n",
    "# Transforming from generators to arrays\n",
    "tfidf_train_data = tfidf_train_data.toarray()\n",
    "tfidf_test_data = tfidf_test_data.toarray()\n",
    "\n",
    "# Validating the shape of train and test data\n",
    "print(tfidf_train_data.shape)\n",
    "print(tfidf_test_data.shape)"
   ]
  },
  {
   "cell_type": "markdown",
   "metadata": {
    "id": "h7GPiS355uFa"
   },
   "source": [
    "Train and test variables"
   ]
  },
  {
   "cell_type": "code",
   "execution_count": 60,
   "metadata": {
    "id": "bW5oGb9946Wv",
    "outputId": "0d409bf1-b4b9-41a5-b1c8-80d5a0a79011"
   },
   "outputs": [
    {
     "name": "stdout",
     "output_type": "stream",
     "text": [
      "The shape of X_train is :  (2214, 1000)\n",
      "The shape of y_train is :  (2214, 5)\n",
      "\n",
      "The shape of X_test is :  (278, 1000)\n",
      "The shape of y_test is :  (278, 5)\n"
     ]
    }
   ],
   "source": [
    "# Defining the emotion columns\n",
    "emotion = ['anger', 'fear', 'joy', 'sadness', 'surprise']\n",
    "\n",
    "# Defining train and test variables\n",
    "X_train =  tfidf_train_data\n",
    "y_train = train_data.loc[:,emotion].values\n",
    "\n",
    "X_test =  tfidf_test_data\n",
    "y_test = test_data.loc[:,emotion].values\n",
    "\n",
    "# Shape validation\n",
    "print(\"The shape of X_train is : \", X_train.shape)\n",
    "print(\"The shape of y_train is : \", y_train.shape)\n",
    "print()\n",
    "print(\"The shape of X_test is : \", X_test.shape)\n",
    "print(\"The shape of y_test is : \", y_test.shape)"
   ]
  },
  {
   "cell_type": "markdown",
   "metadata": {
    "id": "LVRlY9nN5x0H"
   },
   "source": [
    "Simulating dummy predictions"
   ]
  },
  {
   "cell_type": "code",
   "execution_count": 12,
   "metadata": {
    "id": "tWl1AUV246Wv",
    "outputId": "50c74eb7-3711-420b-e23c-41369b26f8cd"
   },
   "outputs": [
    {
     "data": {
      "text/html": [
       "<div>\n",
       "<style scoped>\n",
       "    .dataframe tbody tr th:only-of-type {\n",
       "        vertical-align: middle;\n",
       "    }\n",
       "\n",
       "    .dataframe tbody tr th {\n",
       "        vertical-align: top;\n",
       "    }\n",
       "\n",
       "    .dataframe thead th {\n",
       "        text-align: right;\n",
       "    }\n",
       "</style>\n",
       "<table border=\"1\" class=\"dataframe\">\n",
       "  <thead>\n",
       "    <tr style=\"text-align: right;\">\n",
       "      <th></th>\n",
       "      <th>clean_text</th>\n",
       "      <th>anger</th>\n",
       "      <th>fear</th>\n",
       "      <th>joy</th>\n",
       "      <th>sadness</th>\n",
       "      <th>surprise</th>\n",
       "      <th>clean_token</th>\n",
       "    </tr>\n",
       "  </thead>\n",
       "  <tbody>\n",
       "    <tr>\n",
       "      <th>0</th>\n",
       "      <td>but not very happy</td>\n",
       "      <td>0</td>\n",
       "      <td>0</td>\n",
       "      <td>1</td>\n",
       "      <td>1</td>\n",
       "      <td>0</td>\n",
       "      <td>happy</td>\n",
       "    </tr>\n",
       "    <tr>\n",
       "      <th>1</th>\n",
       "      <td>well she is not gon na last the whole song lik...</td>\n",
       "      <td>0</td>\n",
       "      <td>0</td>\n",
       "      <td>1</td>\n",
       "      <td>0</td>\n",
       "      <td>0</td>\n",
       "      <td>song like I audience torso pretty I use hand p...</td>\n",
       "    </tr>\n",
       "    <tr>\n",
       "      <th>2</th>\n",
       "      <td>she sat at her papa recliner sofa only to move...</td>\n",
       "      <td>0</td>\n",
       "      <td>0</td>\n",
       "      <td>0</td>\n",
       "      <td>0</td>\n",
       "      <td>0</td>\n",
       "      <td>sit papa recliner sofa I start cling arm</td>\n",
       "    </tr>\n",
       "  </tbody>\n",
       "</table>\n",
       "</div>"
      ],
      "text/plain": [
       "                                          clean_text  anger  fear  joy  \\\n",
       "0                                 but not very happy      0     0    1   \n",
       "1  well she is not gon na last the whole song lik...      0     0    1   \n",
       "2  she sat at her papa recliner sofa only to move...      0     0    0   \n",
       "\n",
       "   sadness  surprise                                        clean_token  \n",
       "0        1         0                                              happy  \n",
       "1        0         0  song like I audience torso pretty I use hand p...  \n",
       "2        0         0           sit papa recliner sofa I start cling arm  "
      ]
     },
     "metadata": {},
     "output_type": "display_data"
    }
   ],
   "source": [
    "# Preview of data\n",
    "display(train_data.head(3))"
   ]
  },
  {
   "cell_type": "code",
   "execution_count": 13,
   "metadata": {
    "id": "fGkK37La46Ww",
    "outputId": "62522ecb-0b6b-4bc8-ad10-6f41ac45a418"
   },
   "outputs": [
    {
     "data": {
      "text/plain": [
       "array([[0, 0, 0, 0, 1],\n",
       "       [0, 0, 0, 0, 1],\n",
       "       [0, 0, 0, 0, 1],\n",
       "       ...,\n",
       "       [0, 0, 0, 0, 1],\n",
       "       [0, 0, 0, 0, 1],\n",
       "       [0, 0, 0, 0, 1]])"
      ]
     },
     "execution_count": 13,
     "metadata": {},
     "output_type": "execute_result"
    }
   ],
   "source": [
    "#  predicting  emotion\n",
    "dummy_preds = np.zeros_like(y_test)\n",
    "dummy_preds[:,-1] = 1\n",
    "dummy_preds"
   ]
  },
  {
   "cell_type": "markdown",
   "metadata": {
    "id": "UmoJs8qu52R3"
   },
   "source": [
    "Evaluation of dummy predictions"
   ]
  },
  {
   "cell_type": "code",
   "execution_count": 14,
   "metadata": {
    "id": "tPnYDWk846Ww"
   },
   "outputs": [],
   "source": [
    "# Model evaluation function\n",
    "def model_eval(y_true, y_pred_labels, emotions):\n",
    "\n",
    "    # Defining variables\n",
    "    precision = []\n",
    "    recall = []\n",
    "    f1 = []\n",
    "\n",
    "    # Per emotion evaluation\n",
    "    idx2emotion = {i: e for i, e in enumerate(emotions)}\n",
    "\n",
    "    for i in range(len(emotions)):\n",
    "\n",
    "        # Computing precision, recall and f1-score\n",
    "        p, r, f1_score, _ = precision_recall_fscore_support(y_true[:, i], y_pred_labels[:, i], average=\"binary\")\n",
    "\n",
    "        # Append results in lists\n",
    "        precision.append(round(p, 2))\n",
    "        recall.append(round(r, 2))\n",
    "        f1.append(round(f1_score, 2))\n",
    "\n",
    "    # Macro evaluation\n",
    "    macro_p, macro_r, macro_f1_score, _ = precision_recall_fscore_support(y_true, y_pred_labels, average=\"macro\")\n",
    "\n",
    "    # Append results in lists\n",
    "    precision.append(round(macro_p, 2))\n",
    "    recall.append(round(macro_r, 2))\n",
    "    f1.append(round(macro_f1_score, 2))\n",
    "\n",
    "    # Converting results to a dataframe\n",
    "    df_results = pd.DataFrame({\"Precision\":precision, \"Recall\":recall, 'F1':f1})\n",
    "    df_results.index = emotions+['MACRO-AVERAGE']\n",
    "\n",
    "    return df_results"
   ]
  },
  {
   "cell_type": "code",
   "execution_count": 15,
   "metadata": {
    "id": "XUslLQQp46Ww",
    "outputId": "f1b529c0-cded-403a-8db1-adb1e698f71f"
   },
   "outputs": [
    {
     "name": "stderr",
     "output_type": "stream",
     "text": [
      "C:\\Users\\Prerana\\AppData\\Roaming\\Python\\Python312\\site-packages\\sklearn\\metrics\\_classification.py:1531: UndefinedMetricWarning: Precision is ill-defined and being set to 0.0 due to no predicted samples. Use `zero_division` parameter to control this behavior.\n",
      "  _warn_prf(average, modifier, f\"{metric.capitalize()} is\", len(result))\n",
      "C:\\Users\\Prerana\\AppData\\Roaming\\Python\\Python312\\site-packages\\sklearn\\metrics\\_classification.py:1531: UndefinedMetricWarning: Precision is ill-defined and being set to 0.0 due to no predicted samples. Use `zero_division` parameter to control this behavior.\n",
      "  _warn_prf(average, modifier, f\"{metric.capitalize()} is\", len(result))\n",
      "C:\\Users\\Prerana\\AppData\\Roaming\\Python\\Python312\\site-packages\\sklearn\\metrics\\_classification.py:1531: UndefinedMetricWarning: Precision is ill-defined and being set to 0.0 due to no predicted samples. Use `zero_division` parameter to control this behavior.\n",
      "  _warn_prf(average, modifier, f\"{metric.capitalize()} is\", len(result))\n",
      "C:\\Users\\Prerana\\AppData\\Roaming\\Python\\Python312\\site-packages\\sklearn\\metrics\\_classification.py:1531: UndefinedMetricWarning: Precision is ill-defined and being set to 0.0 due to no predicted samples. Use `zero_division` parameter to control this behavior.\n",
      "  _warn_prf(average, modifier, f\"{metric.capitalize()} is\", len(result))\n",
      "C:\\Users\\Prerana\\AppData\\Roaming\\Python\\Python312\\site-packages\\sklearn\\metrics\\_classification.py:1531: UndefinedMetricWarning: Precision is ill-defined and being set to 0.0 in labels with no predicted samples. Use `zero_division` parameter to control this behavior.\n",
      "  _warn_prf(average, modifier, f\"{metric.capitalize()} is\", len(result))\n"
     ]
    },
    {
     "data": {
      "text/html": [
       "<div>\n",
       "<style scoped>\n",
       "    .dataframe tbody tr th:only-of-type {\n",
       "        vertical-align: middle;\n",
       "    }\n",
       "\n",
       "    .dataframe tbody tr th {\n",
       "        vertical-align: top;\n",
       "    }\n",
       "\n",
       "    .dataframe thead th {\n",
       "        text-align: right;\n",
       "    }\n",
       "</style>\n",
       "<table border=\"1\" class=\"dataframe\">\n",
       "  <thead>\n",
       "    <tr style=\"text-align: right;\">\n",
       "      <th></th>\n",
       "      <th>Precision</th>\n",
       "      <th>Recall</th>\n",
       "      <th>F1</th>\n",
       "    </tr>\n",
       "  </thead>\n",
       "  <tbody>\n",
       "    <tr>\n",
       "      <th>anger</th>\n",
       "      <td>0.00</td>\n",
       "      <td>0.0</td>\n",
       "      <td>0.00</td>\n",
       "    </tr>\n",
       "    <tr>\n",
       "      <th>fear</th>\n",
       "      <td>0.00</td>\n",
       "      <td>0.0</td>\n",
       "      <td>0.00</td>\n",
       "    </tr>\n",
       "    <tr>\n",
       "      <th>joy</th>\n",
       "      <td>0.00</td>\n",
       "      <td>0.0</td>\n",
       "      <td>0.00</td>\n",
       "    </tr>\n",
       "    <tr>\n",
       "      <th>sadness</th>\n",
       "      <td>0.00</td>\n",
       "      <td>0.0</td>\n",
       "      <td>0.00</td>\n",
       "    </tr>\n",
       "    <tr>\n",
       "      <th>surprise</th>\n",
       "      <td>0.31</td>\n",
       "      <td>1.0</td>\n",
       "      <td>0.47</td>\n",
       "    </tr>\n",
       "    <tr>\n",
       "      <th>MACRO-AVERAGE</th>\n",
       "      <td>0.06</td>\n",
       "      <td>0.2</td>\n",
       "      <td>0.09</td>\n",
       "    </tr>\n",
       "  </tbody>\n",
       "</table>\n",
       "</div>"
      ],
      "text/plain": [
       "               Precision  Recall    F1\n",
       "anger               0.00     0.0  0.00\n",
       "fear                0.00     0.0  0.00\n",
       "joy                 0.00     0.0  0.00\n",
       "sadness             0.00     0.0  0.00\n",
       "surprise            0.31     1.0  0.47\n",
       "MACRO-AVERAGE       0.06     0.2  0.09"
      ]
     },
     "execution_count": 15,
     "metadata": {},
     "output_type": "execute_result"
    }
   ],
   "source": [
    "# Model evaluation\n",
    "model_eval(y_test, dummy_preds, emotion)"
   ]
  },
  {
   "cell_type": "markdown",
   "metadata": {
    "id": "egbRpvm656aS"
   },
   "source": [
    "Baseline model: Ridge Classifier"
   ]
  },
  {
   "cell_type": "code",
   "execution_count": 16,
   "metadata": {
    "id": "WNqmhClq46Wx",
    "outputId": "d1a51f95-da1d-4ca1-f4dd-2252fdedcdba"
   },
   "outputs": [
    {
     "data": {
      "text/html": [
       "<style>#sk-container-id-1 {\n",
       "  /* Definition of color scheme common for light and dark mode */\n",
       "  --sklearn-color-text: black;\n",
       "  --sklearn-color-line: gray;\n",
       "  /* Definition of color scheme for unfitted estimators */\n",
       "  --sklearn-color-unfitted-level-0: #fff5e6;\n",
       "  --sklearn-color-unfitted-level-1: #f6e4d2;\n",
       "  --sklearn-color-unfitted-level-2: #ffe0b3;\n",
       "  --sklearn-color-unfitted-level-3: chocolate;\n",
       "  /* Definition of color scheme for fitted estimators */\n",
       "  --sklearn-color-fitted-level-0: #f0f8ff;\n",
       "  --sklearn-color-fitted-level-1: #d4ebff;\n",
       "  --sklearn-color-fitted-level-2: #b3dbfd;\n",
       "  --sklearn-color-fitted-level-3: cornflowerblue;\n",
       "\n",
       "  /* Specific color for light theme */\n",
       "  --sklearn-color-text-on-default-background: var(--sg-text-color, var(--theme-code-foreground, var(--jp-content-font-color1, black)));\n",
       "  --sklearn-color-background: var(--sg-background-color, var(--theme-background, var(--jp-layout-color0, white)));\n",
       "  --sklearn-color-border-box: var(--sg-text-color, var(--theme-code-foreground, var(--jp-content-font-color1, black)));\n",
       "  --sklearn-color-icon: #696969;\n",
       "\n",
       "  @media (prefers-color-scheme: dark) {\n",
       "    /* Redefinition of color scheme for dark theme */\n",
       "    --sklearn-color-text-on-default-background: var(--sg-text-color, var(--theme-code-foreground, var(--jp-content-font-color1, white)));\n",
       "    --sklearn-color-background: var(--sg-background-color, var(--theme-background, var(--jp-layout-color0, #111)));\n",
       "    --sklearn-color-border-box: var(--sg-text-color, var(--theme-code-foreground, var(--jp-content-font-color1, white)));\n",
       "    --sklearn-color-icon: #878787;\n",
       "  }\n",
       "}\n",
       "\n",
       "#sk-container-id-1 {\n",
       "  color: var(--sklearn-color-text);\n",
       "}\n",
       "\n",
       "#sk-container-id-1 pre {\n",
       "  padding: 0;\n",
       "}\n",
       "\n",
       "#sk-container-id-1 input.sk-hidden--visually {\n",
       "  border: 0;\n",
       "  clip: rect(1px 1px 1px 1px);\n",
       "  clip: rect(1px, 1px, 1px, 1px);\n",
       "  height: 1px;\n",
       "  margin: -1px;\n",
       "  overflow: hidden;\n",
       "  padding: 0;\n",
       "  position: absolute;\n",
       "  width: 1px;\n",
       "}\n",
       "\n",
       "#sk-container-id-1 div.sk-dashed-wrapped {\n",
       "  border: 1px dashed var(--sklearn-color-line);\n",
       "  margin: 0 0.4em 0.5em 0.4em;\n",
       "  box-sizing: border-box;\n",
       "  padding-bottom: 0.4em;\n",
       "  background-color: var(--sklearn-color-background);\n",
       "}\n",
       "\n",
       "#sk-container-id-1 div.sk-container {\n",
       "  /* jupyter's `normalize.less` sets `[hidden] { display: none; }`\n",
       "     but bootstrap.min.css set `[hidden] { display: none !important; }`\n",
       "     so we also need the `!important` here to be able to override the\n",
       "     default hidden behavior on the sphinx rendered scikit-learn.org.\n",
       "     See: https://github.com/scikit-learn/scikit-learn/issues/21755 */\n",
       "  display: inline-block !important;\n",
       "  position: relative;\n",
       "}\n",
       "\n",
       "#sk-container-id-1 div.sk-text-repr-fallback {\n",
       "  display: none;\n",
       "}\n",
       "\n",
       "div.sk-parallel-item,\n",
       "div.sk-serial,\n",
       "div.sk-item {\n",
       "  /* draw centered vertical line to link estimators */\n",
       "  background-image: linear-gradient(var(--sklearn-color-text-on-default-background), var(--sklearn-color-text-on-default-background));\n",
       "  background-size: 2px 100%;\n",
       "  background-repeat: no-repeat;\n",
       "  background-position: center center;\n",
       "}\n",
       "\n",
       "/* Parallel-specific style estimator block */\n",
       "\n",
       "#sk-container-id-1 div.sk-parallel-item::after {\n",
       "  content: \"\";\n",
       "  width: 100%;\n",
       "  border-bottom: 2px solid var(--sklearn-color-text-on-default-background);\n",
       "  flex-grow: 1;\n",
       "}\n",
       "\n",
       "#sk-container-id-1 div.sk-parallel {\n",
       "  display: flex;\n",
       "  align-items: stretch;\n",
       "  justify-content: center;\n",
       "  background-color: var(--sklearn-color-background);\n",
       "  position: relative;\n",
       "}\n",
       "\n",
       "#sk-container-id-1 div.sk-parallel-item {\n",
       "  display: flex;\n",
       "  flex-direction: column;\n",
       "}\n",
       "\n",
       "#sk-container-id-1 div.sk-parallel-item:first-child::after {\n",
       "  align-self: flex-end;\n",
       "  width: 50%;\n",
       "}\n",
       "\n",
       "#sk-container-id-1 div.sk-parallel-item:last-child::after {\n",
       "  align-self: flex-start;\n",
       "  width: 50%;\n",
       "}\n",
       "\n",
       "#sk-container-id-1 div.sk-parallel-item:only-child::after {\n",
       "  width: 0;\n",
       "}\n",
       "\n",
       "/* Serial-specific style estimator block */\n",
       "\n",
       "#sk-container-id-1 div.sk-serial {\n",
       "  display: flex;\n",
       "  flex-direction: column;\n",
       "  align-items: center;\n",
       "  background-color: var(--sklearn-color-background);\n",
       "  padding-right: 1em;\n",
       "  padding-left: 1em;\n",
       "}\n",
       "\n",
       "\n",
       "/* Toggleable style: style used for estimator/Pipeline/ColumnTransformer box that is\n",
       "clickable and can be expanded/collapsed.\n",
       "- Pipeline and ColumnTransformer use this feature and define the default style\n",
       "- Estimators will overwrite some part of the style using the `sk-estimator` class\n",
       "*/\n",
       "\n",
       "/* Pipeline and ColumnTransformer style (default) */\n",
       "\n",
       "#sk-container-id-1 div.sk-toggleable {\n",
       "  /* Default theme specific background. It is overwritten whether we have a\n",
       "  specific estimator or a Pipeline/ColumnTransformer */\n",
       "  background-color: var(--sklearn-color-background);\n",
       "}\n",
       "\n",
       "/* Toggleable label */\n",
       "#sk-container-id-1 label.sk-toggleable__label {\n",
       "  cursor: pointer;\n",
       "  display: block;\n",
       "  width: 100%;\n",
       "  margin-bottom: 0;\n",
       "  padding: 0.5em;\n",
       "  box-sizing: border-box;\n",
       "  text-align: center;\n",
       "}\n",
       "\n",
       "#sk-container-id-1 label.sk-toggleable__label-arrow:before {\n",
       "  /* Arrow on the left of the label */\n",
       "  content: \"▸\";\n",
       "  float: left;\n",
       "  margin-right: 0.25em;\n",
       "  color: var(--sklearn-color-icon);\n",
       "}\n",
       "\n",
       "#sk-container-id-1 label.sk-toggleable__label-arrow:hover:before {\n",
       "  color: var(--sklearn-color-text);\n",
       "}\n",
       "\n",
       "/* Toggleable content - dropdown */\n",
       "\n",
       "#sk-container-id-1 div.sk-toggleable__content {\n",
       "  max-height: 0;\n",
       "  max-width: 0;\n",
       "  overflow: hidden;\n",
       "  text-align: left;\n",
       "  /* unfitted */\n",
       "  background-color: var(--sklearn-color-unfitted-level-0);\n",
       "}\n",
       "\n",
       "#sk-container-id-1 div.sk-toggleable__content.fitted {\n",
       "  /* fitted */\n",
       "  background-color: var(--sklearn-color-fitted-level-0);\n",
       "}\n",
       "\n",
       "#sk-container-id-1 div.sk-toggleable__content pre {\n",
       "  margin: 0.2em;\n",
       "  border-radius: 0.25em;\n",
       "  color: var(--sklearn-color-text);\n",
       "  /* unfitted */\n",
       "  background-color: var(--sklearn-color-unfitted-level-0);\n",
       "}\n",
       "\n",
       "#sk-container-id-1 div.sk-toggleable__content.fitted pre {\n",
       "  /* unfitted */\n",
       "  background-color: var(--sklearn-color-fitted-level-0);\n",
       "}\n",
       "\n",
       "#sk-container-id-1 input.sk-toggleable__control:checked~div.sk-toggleable__content {\n",
       "  /* Expand drop-down */\n",
       "  max-height: 200px;\n",
       "  max-width: 100%;\n",
       "  overflow: auto;\n",
       "}\n",
       "\n",
       "#sk-container-id-1 input.sk-toggleable__control:checked~label.sk-toggleable__label-arrow:before {\n",
       "  content: \"▾\";\n",
       "}\n",
       "\n",
       "/* Pipeline/ColumnTransformer-specific style */\n",
       "\n",
       "#sk-container-id-1 div.sk-label input.sk-toggleable__control:checked~label.sk-toggleable__label {\n",
       "  color: var(--sklearn-color-text);\n",
       "  background-color: var(--sklearn-color-unfitted-level-2);\n",
       "}\n",
       "\n",
       "#sk-container-id-1 div.sk-label.fitted input.sk-toggleable__control:checked~label.sk-toggleable__label {\n",
       "  background-color: var(--sklearn-color-fitted-level-2);\n",
       "}\n",
       "\n",
       "/* Estimator-specific style */\n",
       "\n",
       "/* Colorize estimator box */\n",
       "#sk-container-id-1 div.sk-estimator input.sk-toggleable__control:checked~label.sk-toggleable__label {\n",
       "  /* unfitted */\n",
       "  background-color: var(--sklearn-color-unfitted-level-2);\n",
       "}\n",
       "\n",
       "#sk-container-id-1 div.sk-estimator.fitted input.sk-toggleable__control:checked~label.sk-toggleable__label {\n",
       "  /* fitted */\n",
       "  background-color: var(--sklearn-color-fitted-level-2);\n",
       "}\n",
       "\n",
       "#sk-container-id-1 div.sk-label label.sk-toggleable__label,\n",
       "#sk-container-id-1 div.sk-label label {\n",
       "  /* The background is the default theme color */\n",
       "  color: var(--sklearn-color-text-on-default-background);\n",
       "}\n",
       "\n",
       "/* On hover, darken the color of the background */\n",
       "#sk-container-id-1 div.sk-label:hover label.sk-toggleable__label {\n",
       "  color: var(--sklearn-color-text);\n",
       "  background-color: var(--sklearn-color-unfitted-level-2);\n",
       "}\n",
       "\n",
       "/* Label box, darken color on hover, fitted */\n",
       "#sk-container-id-1 div.sk-label.fitted:hover label.sk-toggleable__label.fitted {\n",
       "  color: var(--sklearn-color-text);\n",
       "  background-color: var(--sklearn-color-fitted-level-2);\n",
       "}\n",
       "\n",
       "/* Estimator label */\n",
       "\n",
       "#sk-container-id-1 div.sk-label label {\n",
       "  font-family: monospace;\n",
       "  font-weight: bold;\n",
       "  display: inline-block;\n",
       "  line-height: 1.2em;\n",
       "}\n",
       "\n",
       "#sk-container-id-1 div.sk-label-container {\n",
       "  text-align: center;\n",
       "}\n",
       "\n",
       "/* Estimator-specific */\n",
       "#sk-container-id-1 div.sk-estimator {\n",
       "  font-family: monospace;\n",
       "  border: 1px dotted var(--sklearn-color-border-box);\n",
       "  border-radius: 0.25em;\n",
       "  box-sizing: border-box;\n",
       "  margin-bottom: 0.5em;\n",
       "  /* unfitted */\n",
       "  background-color: var(--sklearn-color-unfitted-level-0);\n",
       "}\n",
       "\n",
       "#sk-container-id-1 div.sk-estimator.fitted {\n",
       "  /* fitted */\n",
       "  background-color: var(--sklearn-color-fitted-level-0);\n",
       "}\n",
       "\n",
       "/* on hover */\n",
       "#sk-container-id-1 div.sk-estimator:hover {\n",
       "  /* unfitted */\n",
       "  background-color: var(--sklearn-color-unfitted-level-2);\n",
       "}\n",
       "\n",
       "#sk-container-id-1 div.sk-estimator.fitted:hover {\n",
       "  /* fitted */\n",
       "  background-color: var(--sklearn-color-fitted-level-2);\n",
       "}\n",
       "\n",
       "/* Specification for estimator info (e.g. \"i\" and \"?\") */\n",
       "\n",
       "/* Common style for \"i\" and \"?\" */\n",
       "\n",
       ".sk-estimator-doc-link,\n",
       "a:link.sk-estimator-doc-link,\n",
       "a:visited.sk-estimator-doc-link {\n",
       "  float: right;\n",
       "  font-size: smaller;\n",
       "  line-height: 1em;\n",
       "  font-family: monospace;\n",
       "  background-color: var(--sklearn-color-background);\n",
       "  border-radius: 1em;\n",
       "  height: 1em;\n",
       "  width: 1em;\n",
       "  text-decoration: none !important;\n",
       "  margin-left: 1ex;\n",
       "  /* unfitted */\n",
       "  border: var(--sklearn-color-unfitted-level-1) 1pt solid;\n",
       "  color: var(--sklearn-color-unfitted-level-1);\n",
       "}\n",
       "\n",
       ".sk-estimator-doc-link.fitted,\n",
       "a:link.sk-estimator-doc-link.fitted,\n",
       "a:visited.sk-estimator-doc-link.fitted {\n",
       "  /* fitted */\n",
       "  border: var(--sklearn-color-fitted-level-1) 1pt solid;\n",
       "  color: var(--sklearn-color-fitted-level-1);\n",
       "}\n",
       "\n",
       "/* On hover */\n",
       "div.sk-estimator:hover .sk-estimator-doc-link:hover,\n",
       ".sk-estimator-doc-link:hover,\n",
       "div.sk-label-container:hover .sk-estimator-doc-link:hover,\n",
       ".sk-estimator-doc-link:hover {\n",
       "  /* unfitted */\n",
       "  background-color: var(--sklearn-color-unfitted-level-3);\n",
       "  color: var(--sklearn-color-background);\n",
       "  text-decoration: none;\n",
       "}\n",
       "\n",
       "div.sk-estimator.fitted:hover .sk-estimator-doc-link.fitted:hover,\n",
       ".sk-estimator-doc-link.fitted:hover,\n",
       "div.sk-label-container:hover .sk-estimator-doc-link.fitted:hover,\n",
       ".sk-estimator-doc-link.fitted:hover {\n",
       "  /* fitted */\n",
       "  background-color: var(--sklearn-color-fitted-level-3);\n",
       "  color: var(--sklearn-color-background);\n",
       "  text-decoration: none;\n",
       "}\n",
       "\n",
       "/* Span, style for the box shown on hovering the info icon */\n",
       ".sk-estimator-doc-link span {\n",
       "  display: none;\n",
       "  z-index: 9999;\n",
       "  position: relative;\n",
       "  font-weight: normal;\n",
       "  right: .2ex;\n",
       "  padding: .5ex;\n",
       "  margin: .5ex;\n",
       "  width: min-content;\n",
       "  min-width: 20ex;\n",
       "  max-width: 50ex;\n",
       "  color: var(--sklearn-color-text);\n",
       "  box-shadow: 2pt 2pt 4pt #999;\n",
       "  /* unfitted */\n",
       "  background: var(--sklearn-color-unfitted-level-0);\n",
       "  border: .5pt solid var(--sklearn-color-unfitted-level-3);\n",
       "}\n",
       "\n",
       ".sk-estimator-doc-link.fitted span {\n",
       "  /* fitted */\n",
       "  background: var(--sklearn-color-fitted-level-0);\n",
       "  border: var(--sklearn-color-fitted-level-3);\n",
       "}\n",
       "\n",
       ".sk-estimator-doc-link:hover span {\n",
       "  display: block;\n",
       "}\n",
       "\n",
       "/* \"?\"-specific style due to the `<a>` HTML tag */\n",
       "\n",
       "#sk-container-id-1 a.estimator_doc_link {\n",
       "  float: right;\n",
       "  font-size: 1rem;\n",
       "  line-height: 1em;\n",
       "  font-family: monospace;\n",
       "  background-color: var(--sklearn-color-background);\n",
       "  border-radius: 1rem;\n",
       "  height: 1rem;\n",
       "  width: 1rem;\n",
       "  text-decoration: none;\n",
       "  /* unfitted */\n",
       "  color: var(--sklearn-color-unfitted-level-1);\n",
       "  border: var(--sklearn-color-unfitted-level-1) 1pt solid;\n",
       "}\n",
       "\n",
       "#sk-container-id-1 a.estimator_doc_link.fitted {\n",
       "  /* fitted */\n",
       "  border: var(--sklearn-color-fitted-level-1) 1pt solid;\n",
       "  color: var(--sklearn-color-fitted-level-1);\n",
       "}\n",
       "\n",
       "/* On hover */\n",
       "#sk-container-id-1 a.estimator_doc_link:hover {\n",
       "  /* unfitted */\n",
       "  background-color: var(--sklearn-color-unfitted-level-3);\n",
       "  color: var(--sklearn-color-background);\n",
       "  text-decoration: none;\n",
       "}\n",
       "\n",
       "#sk-container-id-1 a.estimator_doc_link.fitted:hover {\n",
       "  /* fitted */\n",
       "  background-color: var(--sklearn-color-fitted-level-3);\n",
       "}\n",
       "</style><div id=\"sk-container-id-1\" class=\"sk-top-container\"><div class=\"sk-text-repr-fallback\"><pre>MultiOutputClassifier(estimator=RidgeClassifier(class_weight=&#x27;balanced&#x27;),\n",
       "                      n_jobs=-1)</pre><b>In a Jupyter environment, please rerun this cell to show the HTML representation or trust the notebook. <br />On GitHub, the HTML representation is unable to render, please try loading this page with nbviewer.org.</b></div><div class=\"sk-container\" hidden><div class=\"sk-item sk-dashed-wrapped\"><div class=\"sk-label-container\"><div class=\"sk-label fitted sk-toggleable\"><input class=\"sk-toggleable__control sk-hidden--visually\" id=\"sk-estimator-id-1\" type=\"checkbox\" ><label for=\"sk-estimator-id-1\" class=\"sk-toggleable__label fitted sk-toggleable__label-arrow fitted\">&nbsp;&nbsp;MultiOutputClassifier<a class=\"sk-estimator-doc-link fitted\" rel=\"noreferrer\" target=\"_blank\" href=\"https://scikit-learn.org/1.5/modules/generated/sklearn.multioutput.MultiOutputClassifier.html\">?<span>Documentation for MultiOutputClassifier</span></a><span class=\"sk-estimator-doc-link fitted\">i<span>Fitted</span></span></label><div class=\"sk-toggleable__content fitted\"><pre>MultiOutputClassifier(estimator=RidgeClassifier(class_weight=&#x27;balanced&#x27;),\n",
       "                      n_jobs=-1)</pre></div> </div></div><div class=\"sk-parallel\"><div class=\"sk-parallel-item\"><div class=\"sk-item\"><div class=\"sk-label-container\"><div class=\"sk-label fitted sk-toggleable\"><input class=\"sk-toggleable__control sk-hidden--visually\" id=\"sk-estimator-id-2\" type=\"checkbox\" ><label for=\"sk-estimator-id-2\" class=\"sk-toggleable__label fitted sk-toggleable__label-arrow fitted\">estimator: RidgeClassifier</label><div class=\"sk-toggleable__content fitted\"><pre>RidgeClassifier(class_weight=&#x27;balanced&#x27;)</pre></div> </div></div><div class=\"sk-serial\"><div class=\"sk-item\"><div class=\"sk-estimator fitted sk-toggleable\"><input class=\"sk-toggleable__control sk-hidden--visually\" id=\"sk-estimator-id-3\" type=\"checkbox\" ><label for=\"sk-estimator-id-3\" class=\"sk-toggleable__label fitted sk-toggleable__label-arrow fitted\">&nbsp;RidgeClassifier<a class=\"sk-estimator-doc-link fitted\" rel=\"noreferrer\" target=\"_blank\" href=\"https://scikit-learn.org/1.5/modules/generated/sklearn.linear_model.RidgeClassifier.html\">?<span>Documentation for RidgeClassifier</span></a></label><div class=\"sk-toggleable__content fitted\"><pre>RidgeClassifier(class_weight=&#x27;balanced&#x27;)</pre></div> </div></div></div></div></div></div></div></div></div>"
      ],
      "text/plain": [
       "MultiOutputClassifier(estimator=RidgeClassifier(class_weight='balanced'),\n",
       "                      n_jobs=-1)"
      ]
     },
     "execution_count": 16,
     "metadata": {},
     "output_type": "execute_result"
    }
   ],
   "source": [
    "# Multi-label classification\n",
    "rc = RidgeClassifier(class_weight='balanced')\n",
    "classifier = MultiOutputClassifier(rc, n_jobs=-1)\n",
    "classifier.fit(X_train, y_train)"
   ]
  },
  {
   "cell_type": "code",
   "execution_count": 17,
   "metadata": {
    "id": "E1JFmwAr46Wx",
    "outputId": "a5bde8e4-523f-4b94-8fc1-ce3ae0a3b5d9"
   },
   "outputs": [
    {
     "data": {
      "text/plain": [
       "array([[0, 0, 0, 0, 0],\n",
       "       [0, 0, 1, 0, 1],\n",
       "       [1, 1, 0, 0, 1],\n",
       "       ...,\n",
       "       [0, 0, 1, 1, 0],\n",
       "       [0, 0, 0, 0, 0],\n",
       "       [0, 1, 0, 0, 0]])"
      ]
     },
     "execution_count": 17,
     "metadata": {},
     "output_type": "execute_result"
    }
   ],
   "source": [
    "# Making predictions on Emotions\n",
    "classifier_preds = classifier.predict(X_test)\n",
    "classifier_preds"
   ]
  },
  {
   "cell_type": "code",
   "execution_count": 18,
   "metadata": {
    "id": "IkWITmfJ46Wx",
    "outputId": "684a9a21-6097-4588-a010-12d5ed5cc7a2"
   },
   "outputs": [
    {
     "data": {
      "text/html": [
       "<div>\n",
       "<style scoped>\n",
       "    .dataframe tbody tr th:only-of-type {\n",
       "        vertical-align: middle;\n",
       "    }\n",
       "\n",
       "    .dataframe tbody tr th {\n",
       "        vertical-align: top;\n",
       "    }\n",
       "\n",
       "    .dataframe thead th {\n",
       "        text-align: right;\n",
       "    }\n",
       "</style>\n",
       "<table border=\"1\" class=\"dataframe\">\n",
       "  <thead>\n",
       "    <tr style=\"text-align: right;\">\n",
       "      <th></th>\n",
       "      <th>Precision</th>\n",
       "      <th>Recall</th>\n",
       "      <th>F1</th>\n",
       "    </tr>\n",
       "  </thead>\n",
       "  <tbody>\n",
       "    <tr>\n",
       "      <th>anger</th>\n",
       "      <td>0.23</td>\n",
       "      <td>0.34</td>\n",
       "      <td>0.28</td>\n",
       "    </tr>\n",
       "    <tr>\n",
       "      <th>fear</th>\n",
       "      <td>0.70</td>\n",
       "      <td>0.62</td>\n",
       "      <td>0.66</td>\n",
       "    </tr>\n",
       "    <tr>\n",
       "      <th>joy</th>\n",
       "      <td>0.42</td>\n",
       "      <td>0.63</td>\n",
       "      <td>0.50</td>\n",
       "    </tr>\n",
       "    <tr>\n",
       "      <th>sadness</th>\n",
       "      <td>0.47</td>\n",
       "      <td>0.62</td>\n",
       "      <td>0.54</td>\n",
       "    </tr>\n",
       "    <tr>\n",
       "      <th>surprise</th>\n",
       "      <td>0.49</td>\n",
       "      <td>0.62</td>\n",
       "      <td>0.54</td>\n",
       "    </tr>\n",
       "    <tr>\n",
       "      <th>MACRO-AVERAGE</th>\n",
       "      <td>0.46</td>\n",
       "      <td>0.57</td>\n",
       "      <td>0.50</td>\n",
       "    </tr>\n",
       "  </tbody>\n",
       "</table>\n",
       "</div>"
      ],
      "text/plain": [
       "               Precision  Recall    F1\n",
       "anger               0.23    0.34  0.28\n",
       "fear                0.70    0.62  0.66\n",
       "joy                 0.42    0.63  0.50\n",
       "sadness             0.47    0.62  0.54\n",
       "surprise            0.49    0.62  0.54\n",
       "MACRO-AVERAGE       0.46    0.57  0.50"
      ]
     },
     "execution_count": 18,
     "metadata": {},
     "output_type": "execute_result"
    }
   ],
   "source": [
    "# Model evaluation\n",
    "model_eval(y_test, classifier_preds, emotion)"
   ]
  },
  {
   "cell_type": "code",
   "execution_count": 37,
   "metadata": {
    "id": "vgrVAd5E46Wy"
   },
   "outputs": [],
   "source": [
    "# Importing the required libraries\n",
    "import matplotlib.pyplot as plt\n",
    "import seaborn as sns\n",
    "from sklearn.metrics import confusion_matrix  \n"
   ]
  },
  {
   "cell_type": "code",
   "execution_count": 36,
   "metadata": {},
   "outputs": [
    {
     "data": {
      "image/png": "[encoded data removed]",
      "text/plain": [
       "<Figure size 1000x1000 with 1 Axes>"
      ]
     },
     "metadata": {},
     "output_type": "display_data"
    }
   ],
   "source": [
    "# Generate the prediction matrix in the plot\n",
    "def plot_confusion_matrix(y_true, y_pred, emotions):\n",
    "    \n",
    "    # Defining the confusion matrix\n",
    "    cm = confusion_matrix(y_true, y_pred) \n",
    "    \n",
    "    # Plotting the confusion matrix\n",
    "    plt.figure(figsize=(10, 10))\n",
    "    sns.heatmap(cm, annot=True, fmt=\"d\", cmap=\"Blues\", cbar=False, xticklabels=emotions, yticklabels=emotions)\n",
    "    plt.xlabel(\"Predicted Emotions\")\n",
    "    plt.ylabel(\"True Emotions\")\n",
    "    plt.title(\"Confusion Matrix\")\n",
    "\n",
    "# Plotting the confusion matrix\n",
    "plot_confusion_matrix(y_test.argmax(axis=1), classifier_preds.argmax(axis=1), emotion)\n"
   ]
  },
  {
   "cell_type": "markdown",
   "metadata": {},
   "source": [
    "# Using Logistic Regression"
   ]
  },
  {
   "cell_type": "code",
   "execution_count": 42,
   "metadata": {
    "id": "sCT0BZJ846Wy",
    "outputId": "d34e3de2-0c61-4e2d-8d17-4941a902af53"
   },
   "outputs": [
    {
     "name": "stderr",
     "output_type": "stream",
     "text": [
      "C:\\Users\\Prerana\\AppData\\Roaming\\Python\\Python312\\site-packages\\sklearn\\metrics\\_classification.py:1531: UndefinedMetricWarning: Precision is ill-defined and being set to 0.0 due to no predicted samples. Use `zero_division` parameter to control this behavior.\n",
      "  _warn_prf(average, modifier, f\"{metric.capitalize()} is\", len(result))\n",
      "C:\\Users\\Prerana\\AppData\\Roaming\\Python\\Python312\\site-packages\\sklearn\\metrics\\_classification.py:1531: UndefinedMetricWarning: Precision is ill-defined and being set to 0.0 in labels with no predicted samples. Use `zero_division` parameter to control this behavior.\n",
      "  _warn_prf(average, modifier, f\"{metric.capitalize()} is\", len(result))\n"
     ]
    },
    {
     "data": {
      "text/html": [
       "<div>\n",
       "<style scoped>\n",
       "    .dataframe tbody tr th:only-of-type {\n",
       "        vertical-align: middle;\n",
       "    }\n",
       "\n",
       "    .dataframe tbody tr th {\n",
       "        vertical-align: top;\n",
       "    }\n",
       "\n",
       "    .dataframe thead th {\n",
       "        text-align: right;\n",
       "    }\n",
       "</style>\n",
       "<table border=\"1\" class=\"dataframe\">\n",
       "  <thead>\n",
       "    <tr style=\"text-align: right;\">\n",
       "      <th></th>\n",
       "      <th>Precision</th>\n",
       "      <th>Recall</th>\n",
       "      <th>F1</th>\n",
       "    </tr>\n",
       "  </thead>\n",
       "  <tbody>\n",
       "    <tr>\n",
       "      <th>anger</th>\n",
       "      <td>0.00</td>\n",
       "      <td>0.00</td>\n",
       "      <td>0.00</td>\n",
       "    </tr>\n",
       "    <tr>\n",
       "      <th>fear</th>\n",
       "      <td>0.64</td>\n",
       "      <td>0.84</td>\n",
       "      <td>0.72</td>\n",
       "    </tr>\n",
       "    <tr>\n",
       "      <th>joy</th>\n",
       "      <td>0.80</td>\n",
       "      <td>0.13</td>\n",
       "      <td>0.22</td>\n",
       "    </tr>\n",
       "    <tr>\n",
       "      <th>sadness</th>\n",
       "      <td>0.54</td>\n",
       "      <td>0.18</td>\n",
       "      <td>0.27</td>\n",
       "    </tr>\n",
       "    <tr>\n",
       "      <th>surprise</th>\n",
       "      <td>0.75</td>\n",
       "      <td>0.17</td>\n",
       "      <td>0.28</td>\n",
       "    </tr>\n",
       "    <tr>\n",
       "      <th>MACRO-AVERAGE</th>\n",
       "      <td>0.55</td>\n",
       "      <td>0.26</td>\n",
       "      <td>0.30</td>\n",
       "    </tr>\n",
       "  </tbody>\n",
       "</table>\n",
       "</div>"
      ],
      "text/plain": [
       "               Precision  Recall    F1\n",
       "anger               0.00    0.00  0.00\n",
       "fear                0.64    0.84  0.72\n",
       "joy                 0.80    0.13  0.22\n",
       "sadness             0.54    0.18  0.27\n",
       "surprise            0.75    0.17  0.28\n",
       "MACRO-AVERAGE       0.55    0.26  0.30"
      ]
     },
     "execution_count": 42,
     "metadata": {},
     "output_type": "execute_result"
    }
   ],
   "source": [
    "# Similarly use the Logistic Regression classifier for multi-label classification\n",
    "from sklearn.linear_model import LogisticRegression\n",
    "from sklearn.metrics import accuracy_score\n",
    "\n",
    "lc = LogisticRegression(max_iter=1000)\n",
    "classifier = MultiOutputClassifier(lc, n_jobs=-1)\n",
    "classifier.fit(X_train, y_train)\n",
    "\n",
    "# Making predictions on Emotions\n",
    "classifier_preds = classifier.predict(X_test)\n",
    "classifier_preds\n",
    "\n",
    "# Model evaluation\n",
    "model_eval(y_test, classifier_preds, emotion)\n",
    "\n"
   ]
  },
  {
   "cell_type": "markdown",
   "metadata": {},
   "source": [
    "# Checking Logistic regression model accuracy"
   ]
  },
  {
   "cell_type": "code",
   "execution_count": 41,
   "metadata": {},
   "outputs": [
    {
     "name": "stdout",
     "output_type": "stream",
     "text": [
      "The model accuracy is:  0.21942446043165467\n"
     ]
    }
   ],
   "source": [
    "#calculate the model accuracy\n",
    "accuracy = accuracy_score(y_test, classifier_preds)\n",
    "print(\"The model accuracy is: \", accuracy)"
   ]
  },
  {
   "cell_type": "markdown",
   "metadata": {},
   "source": [
    "# Using Random Forest"
   ]
  },
  {
   "cell_type": "code",
   "execution_count": 43,
   "metadata": {},
   "outputs": [
    {
     "data": {
      "text/html": [
       "<div>\n",
       "<style scoped>\n",
       "    .dataframe tbody tr th:only-of-type {\n",
       "        vertical-align: middle;\n",
       "    }\n",
       "\n",
       "    .dataframe tbody tr th {\n",
       "        vertical-align: top;\n",
       "    }\n",
       "\n",
       "    .dataframe thead th {\n",
       "        text-align: right;\n",
       "    }\n",
       "</style>\n",
       "<table border=\"1\" class=\"dataframe\">\n",
       "  <thead>\n",
       "    <tr style=\"text-align: right;\">\n",
       "      <th></th>\n",
       "      <th>Precision</th>\n",
       "      <th>Recall</th>\n",
       "      <th>F1</th>\n",
       "    </tr>\n",
       "  </thead>\n",
       "  <tbody>\n",
       "    <tr>\n",
       "      <th>anger</th>\n",
       "      <td>0.40</td>\n",
       "      <td>0.11</td>\n",
       "      <td>0.17</td>\n",
       "    </tr>\n",
       "    <tr>\n",
       "      <th>fear</th>\n",
       "      <td>0.66</td>\n",
       "      <td>0.75</td>\n",
       "      <td>0.71</td>\n",
       "    </tr>\n",
       "    <tr>\n",
       "      <th>joy</th>\n",
       "      <td>0.58</td>\n",
       "      <td>0.34</td>\n",
       "      <td>0.43</td>\n",
       "    </tr>\n",
       "    <tr>\n",
       "      <th>sadness</th>\n",
       "      <td>0.48</td>\n",
       "      <td>0.29</td>\n",
       "      <td>0.36</td>\n",
       "    </tr>\n",
       "    <tr>\n",
       "      <th>surprise</th>\n",
       "      <td>0.54</td>\n",
       "      <td>0.30</td>\n",
       "      <td>0.39</td>\n",
       "    </tr>\n",
       "    <tr>\n",
       "      <th>MACRO-AVERAGE</th>\n",
       "      <td>0.53</td>\n",
       "      <td>0.36</td>\n",
       "      <td>0.41</td>\n",
       "    </tr>\n",
       "  </tbody>\n",
       "</table>\n",
       "</div>"
      ],
      "text/plain": [
       "               Precision  Recall    F1\n",
       "anger               0.40    0.11  0.17\n",
       "fear                0.66    0.75  0.71\n",
       "joy                 0.58    0.34  0.43\n",
       "sadness             0.48    0.29  0.36\n",
       "surprise            0.54    0.30  0.39\n",
       "MACRO-AVERAGE       0.53    0.36  0.41"
      ]
     },
     "execution_count": 43,
     "metadata": {},
     "output_type": "execute_result"
    }
   ],
   "source": [
    "# Similarly use the Random Forest classifier for multi-label classification\n",
    "from sklearn.ensemble import RandomForestClassifier\n",
    "\n",
    "rf = RandomForestClassifier(n_estimators=100, random_state=42)\n",
    "classifier = MultiOutputClassifier(rf, n_jobs=-1)\n",
    "classifier.fit(X_train, y_train)\n",
    "\n",
    "# Making predictions on Emotions\n",
    "classifier_preds = classifier.predict(X_test)\n",
    "classifier_preds\n",
    "\n",
    "# Model evaluation\n",
    "model_eval(y_test, classifier_preds, emotion)\n"
   ]
  },
  {
   "cell_type": "markdown",
   "metadata": {},
   "source": [
    "# Checking Random Forest model accuracy"
   ]
  },
  {
   "cell_type": "code",
   "execution_count": 44,
   "metadata": {},
   "outputs": [
    {
     "name": "stdout",
     "output_type": "stream",
     "text": [
      "The model accuracy is:  0.2302158273381295\n"
     ]
    }
   ],
   "source": [
    "# #calculate the model accuracy\n",
    "accuracy = accuracy_score(y_test, classifier_preds)\n",
    "print(\"The model accuracy is: \", accuracy)\n"
   ]
  },
  {
   "cell_type": "code",
   "execution_count": 45,
   "metadata": {},
   "outputs": [
    {
     "name": "stdout",
     "output_type": "stream",
     "text": [
      "Ridge Classifier\n",
      "               Precision  Recall    F1\n",
      "anger               0.23    0.34  0.28\n",
      "fear                0.70    0.62  0.66\n",
      "joy                 0.42    0.63  0.50\n",
      "sadness             0.47    0.62  0.54\n",
      "surprise            0.49    0.62  0.54\n",
      "MACRO-AVERAGE       0.46    0.57  0.50\n",
      "\n",
      "Logistic Regression\n",
      "               Precision  Recall    F1\n",
      "anger               0.00    0.00  0.00\n",
      "fear                0.64    0.84  0.72\n",
      "joy                 0.80    0.13  0.22\n",
      "sadness             0.54    0.18  0.27\n",
      "surprise            0.75    0.17  0.28\n",
      "MACRO-AVERAGE       0.55    0.26  0.30\n",
      "\n"
     ]
    },
    {
     "name": "stderr",
     "output_type": "stream",
     "text": [
      "C:\\Users\\Prerana\\AppData\\Roaming\\Python\\Python312\\site-packages\\sklearn\\metrics\\_classification.py:1531: UndefinedMetricWarning: Precision is ill-defined and being set to 0.0 due to no predicted samples. Use `zero_division` parameter to control this behavior.\n",
      "  _warn_prf(average, modifier, f\"{metric.capitalize()} is\", len(result))\n",
      "C:\\Users\\Prerana\\AppData\\Roaming\\Python\\Python312\\site-packages\\sklearn\\metrics\\_classification.py:1531: UndefinedMetricWarning: Precision is ill-defined and being set to 0.0 in labels with no predicted samples. Use `zero_division` parameter to control this behavior.\n",
      "  _warn_prf(average, modifier, f\"{metric.capitalize()} is\", len(result))\n"
     ]
    },
    {
     "name": "stdout",
     "output_type": "stream",
     "text": [
      "Random Forest\n",
      "               Precision  Recall    F1\n",
      "anger               0.40    0.11  0.17\n",
      "fear                0.66    0.75  0.71\n",
      "joy                 0.58    0.34  0.43\n",
      "sadness             0.48    0.29  0.36\n",
      "surprise            0.54    0.30  0.39\n",
      "MACRO-AVERAGE       0.53    0.36  0.41\n",
      "\n"
     ]
    }
   ],
   "source": [
    "# comparision of the models using the model evaluation function\n",
    "# Ridge Classifier\n",
    "rc = RidgeClassifier(class_weight='balanced')\n",
    "classifier = MultiOutputClassifier(rc, n_jobs=-1)\n",
    "classifier.fit(X_train, y_train)\n",
    "classifier_preds = classifier.predict(X_test)\n",
    "print(\"Ridge Classifier\")\n",
    "print(model_eval(y_test, classifier_preds, emotion))\n",
    "print()\n",
    "\n",
    "# Logistic Regression\n",
    "lc = LogisticRegression(max_iter=1000)\n",
    "classifier = MultiOutputClassifier(lc, n_jobs=-1)\n",
    "classifier.fit(X_train, y_train)\n",
    "classifier_preds = classifier.predict(X_test)\n",
    "print(\"Logistic Regression\")\n",
    "print(model_eval(y_test, classifier_preds, emotion))\n",
    "print()\n",
    "\n",
    "# Random Forest\n",
    "rf = RandomForestClassifier(n_estimators=100, random_state=42)\n",
    "classifier = MultiOutputClassifier(rf, n_jobs=-1)\n",
    "classifier.fit(X_train, y_train)\n",
    "classifier_preds = classifier.predict(X_test)\n",
    "print(\"Random Forest\")\n",
    "print(model_eval(y_test, classifier_preds, emotion))\n",
    "print()\n",
    "\n"
   ]
  },
  {
   "cell_type": "code",
   "execution_count": 63,
   "metadata": {},
   "outputs": [
    {
     "name": "stderr",
     "output_type": "stream",
     "text": [
      "C:\\Users\\Prerana\\AppData\\Roaming\\Python\\Python312\\site-packages\\sklearn\\metrics\\_classification.py:1531: UndefinedMetricWarning: Precision is ill-defined and being set to 0.0 due to no predicted samples. Use `zero_division` parameter to control this behavior.\n",
      "  _warn_prf(average, modifier, f\"{metric.capitalize()} is\", len(result))\n",
      "C:\\Users\\Prerana\\AppData\\Roaming\\Python\\Python312\\site-packages\\sklearn\\metrics\\_classification.py:1531: UndefinedMetricWarning: Precision is ill-defined and being set to 0.0 in labels with no predicted samples. Use `zero_division` parameter to control this behavior.\n",
      "  _warn_prf(average, modifier, f\"{metric.capitalize()} is\", len(result))\n"
     ]
    },
    {
     "data": {
      "image/png": "[encoded data removed]",
      "text/plain": [
       "<Figure size 1000x500 with 1 Axes>"
      ]
     },
     "metadata": {},
     "output_type": "display_data"
    },
    {
     "data": {
      "image/png": "[encoded data removed]",
      "text/plain": [
       "<Figure size 1000x500 with 1 Axes>"
      ]
     },
     "metadata": {},
     "output_type": "display_data"
    }
   ],
   "source": [
    "# simple graph to see the comparision of the models\n",
    "# Ridge Classifier\n",
    "rc = RidgeClassifier(class_weight='balanced')\n",
    "classifier = MultiOutputClassifier(rc, n_jobs=-1)\n",
    "classifier.fit(X_train, y_train)\n",
    "classifier_preds = classifier.predict(X_test)\n",
    "rc_results = model_eval(y_test, classifier_preds, emotion).iloc[-1]\n",
    "\n",
    "# Logistic Regression\n",
    "lc = LogisticRegression(max_iter=1000)\n",
    "classifier = MultiOutputClassifier(lc, n_jobs=-1)\n",
    "classifier.fit(X_train, y_train)\n",
    "classifier_preds = classifier.predict(X_test)\n",
    "lc_results = model_eval(y_test, classifier_preds, emotion).iloc[-1]\n",
    "\n",
    "# Random Forest\n",
    "rf = RandomForestClassifier(n_estimators=100, random_state=42)\n",
    "classifier = MultiOutputClassifier(rf, n_jobs=-1)\n",
    "classifier.fit(X_train, y_train)\n",
    "classifier_preds = classifier.predict(X_test)\n",
    "rf_results = model_eval(y_test, classifier_preds, emotion).iloc[-1]\n",
    "\n",
    "# Plotting the results\n",
    "plt.figure(figsize=(10, 5))\n",
    "plt.plot(rc_results, label=\"Ridge Classifier\")\n",
    "plt.plot(lc_results, label=\"Logistic Regression\")\n",
    "plt.plot(rf_results, label=\"Random Forest\")\n",
    "plt.xticks(rotation=45)\n",
    "plt.title(\"Model Comparison\")\n",
    "plt.ylabel(\"F1 Score\")\n",
    "plt.legend()\n",
    "plt.show()\n",
    "\n",
    "# also use the model accuracy to compare the models\n",
    "# Ridge Classifier\n",
    "rc = RidgeClassifier(class_weight='balanced')\n",
    "classifier = MultiOutputClassifier(rc, n_jobs=-1)\n",
    "classifier.fit(X_train, y_train)\n",
    "classifier_preds = classifier.predict(X_test)\n",
    "rc_accuracy = accuracy_score(y_test, classifier_preds)\n",
    "\n",
    "# Logistic Regression\n",
    "lc = LogisticRegression(max_iter=1000)\n",
    "classifier = MultiOutputClassifier(lc, n_jobs=-1)\n",
    "classifier.fit(X_train, y_train)\n",
    "classifier_preds = classifier.predict(X_test)\n",
    "lc_accuracy = accuracy_score(y_test, classifier_preds)\n",
    "\n",
    "# Random Forest\n",
    "rf = RandomForestClassifier(n_estimators=100, random_state=42)\n",
    "classifier = MultiOutputClassifier(rf, n_jobs=-1)\n",
    "classifier.fit(X_train, y_train)\n",
    "classifier_preds = classifier.predict(X_test)\n",
    "rf_accuracy = accuracy_score(y_test, classifier_preds)\n",
    "\n",
    "# Plotting the results\n",
    "plt.figure(figsize=(10, 5))\n",
    "plt.bar([\"Ridge Classifier\", \"Logistic Regression\", \"Random Forest\"], [rc_accuracy, lc_accuracy, rf_accuracy])\n",
    "plt.title(\"Model Comparison\")\n",
    "plt.ylabel(\"Accuracy\")\n",
    "plt.show()\n"
   ]
  },
  {
   "cell_type": "markdown",
   "metadata": {
    "id": "ubDuS41V5-xc"
   },
   "source": [
    "Making predictions"
   ]
  },
  {
   "cell_type": "code",
   "execution_count": 47,
   "metadata": {
    "id": "QEj3RilI46Wy"
   },
   "outputs": [],
   "source": [
    "# Retrieving initial text preprocessings\n",
    "def preprocess_data(x):\n",
    "\n",
    "    # Adding a space between words and punctation\n",
    "    x = re.sub( r'([a-zA-Z\\[\\]])([,;.!?])', r'\\1 \\2', x)\n",
    "    x = re.sub( r'([,;.!?])([a-zA-Z\\[\\]])', r'\\1 \\2', x)\n",
    "\n",
    "    # Demojize\n",
    "    x = emoji.demojize(x)\n",
    "\n",
    "    # Expand contraction\n",
    "    x = contractions.fix(x)\n",
    "\n",
    "    # Lower\n",
    "    x = x.lower()\n",
    "\n",
    "    #correct some acronyms/typos/abbreviations\n",
    "    x = re.sub(r\"lmao\", \"laughing my ass off\", x)\n",
    "    x = re.sub(r\"amirite\", \"am i right\", x)\n",
    "    x = re.sub(r\"\\b(tho)\\b\", \"though\", x)\n",
    "    x = re.sub(r\"\\b(ikr)\\b\", \"i know right\", x)\n",
    "    x = re.sub(r\"\\b(ya|u)\\b\", \"you\", x)\n",
    "    x = re.sub(r\"\\b(eu)\\b\", \"europe\", x)\n",
    "    x = re.sub(r\"\\b(da)\\b\", \"the\", x)\n",
    "    x = re.sub(r\"\\b(dat)\\b\", \"that\", x)\n",
    "    x = re.sub(r\"\\b(dats)\\b\", \"that is\", x)\n",
    "    x = re.sub(r\"\\b(cuz)\\b\", \"because\", x)\n",
    "    x = re.sub(r\"\\b(fkn)\\b\", \"fucking\", x)\n",
    "    x = re.sub(r\"\\b(tbh)\\b\", \"to be honest\", x)\n",
    "    x = re.sub(r\"\\b(tbf)\\b\", \"to be fair\", x)\n",
    "    x = re.sub(r\"faux pas\", \"mistake\", x)\n",
    "    x = re.sub(r\"\\b(btw)\\b\", \"by the way\", x)\n",
    "    x = re.sub(r\"\\b(bs)\\b\", \"bullshit\", x)\n",
    "    x = re.sub(r\"\\b(kinda)\\b\", \"kind of\", x)\n",
    "    x = re.sub(r\"\\b(bruh)\\b\", \"bro\", x)\n",
    "    x = re.sub(r\"\\b(w/e)\\b\", \"whatever\", x)\n",
    "    x = re.sub(r\"\\b(w/)\\b\", \"with\", x)\n",
    "    x = re.sub(r\"\\b(w/o)\\b\", \"without\", x)\n",
    "    x = re.sub(r\"\\b(doj)\\b\", \"department of justice\", x)\n",
    "\n",
    "    # replace some words with multiple occurences of a letter, example \"coooool\" turns into --> cool\n",
    "    x = re.sub(r\"\\b(j+e{2,}z+e*)\\b\", \"jeez\", x)\n",
    "    x = re.sub(r\"\\b(co+l+)\\b\", \"cool\", x)\n",
    "    x = re.sub(r\"\\b(g+o+a+l+)\\b\", \"goal\", x)\n",
    "    x = re.sub(r\"\\b(s+h+i+t+)\\b\", \"shit\", x)\n",
    "    x = re.sub(r\"\\b(o+m+g+)\\b\", \"omg\", x)\n",
    "    x = re.sub(r\"\\b(w+t+f+)\\b\", \"wtf\", x)\n",
    "    x = re.sub(r\"\\b(w+h+a+t+)\\b\", \"what\", x)\n",
    "    x = re.sub(r\"\\b(y+e+y+|y+a+y+|y+e+a+h+)\\b\", \"yeah\", x)\n",
    "    x = re.sub(r\"\\b(w+o+w+)\\b\", \"wow\", x)\n",
    "    x = re.sub(r\"\\b(w+h+y+)\\b\", \"why\", x)\n",
    "    x = re.sub(r\"\\b(s+o+)\\b\", \"so\", x)\n",
    "    x = re.sub(r\"\\b(f)\\b\", \"fuck\", x)\n",
    "    x = re.sub(r\"\\b(w+h+o+p+s+)\\b\", \"whoops\", x)\n",
    "    x = re.sub(r\"\\b(ofc)\\b\", \"of course\", x)\n",
    "    x = re.sub(r\"\\b(the us)\\b\", \"usa\", x)\n",
    "    x = re.sub(r\"\\b(gf)\\b\", \"girlfriend\", x)\n",
    "    x = re.sub(r\"\\b(hr)\\b\", \"human ressources\", x)\n",
    "    x = re.sub(r\"\\b(mh)\\b\", \"mental health\", x)\n",
    "    x = re.sub(r\"\\b(idk)\\b\", \"i do not know\", x)\n",
    "    x = re.sub(r\"\\b(gotcha)\\b\", \"i got you\", x)\n",
    "    x = re.sub(r\"\\b(y+e+p+)\\b\", \"yes\", x)\n",
    "    x = re.sub(r\"\\b(a*ha+h[ha]*|a*ha +h[ha]*)\\b\", \"haha\", x)\n",
    "    x = re.sub(r\"\\b(o?l+o+l+[ol]*)\\b\", \"lol\", x)\n",
    "    x = re.sub(r\"\\b(o*ho+h[ho]*|o*ho +h[ho]*)\\b\", \"ohoh\", x)\n",
    "    x = re.sub(r\"\\b(o+h+)\\b\", \"oh\", x)\n",
    "    x = re.sub(r\"\\b(a+h+)\\b\", \"ah\", x)\n",
    "    x = re.sub(r\"\\b(u+h+)\\b\", \"uh\", x)\n",
    "\n",
    "    # Handling emojis\n",
    "    x = re.sub(r\"<3\", \" love \", x)\n",
    "    x = re.sub(r\"xd\", \" smiling_face_with_open_mouth_and_tightly_closed_eyes \", x)\n",
    "    x = re.sub(r\":\\)\", \" smiling_face \", x)\n",
    "    x = re.sub(r\"^_^\", \" smiling_face \", x)\n",
    "    x = re.sub(r\"\\*_\\*\", \" star_struck \", x)\n",
    "    x = re.sub(r\":\\(\", \" frowning_face \", x)\n",
    "    x = re.sub(r\":\\^\\(\", \" frowning_face \", x)\n",
    "    x = re.sub(r\";\\(\", \" frowning_face \", x)\n",
    "    x = re.sub(r\":\\/\",  \" confused_face\", x)\n",
    "    x = re.sub(r\";\\)\",  \" wink\", x)\n",
    "    x = re.sub(r\">__<\",  \" unamused \", x)\n",
    "    x = re.sub(r\"\\b([xo]+x*)\\b\", \" xoxo \", x)\n",
    "    x = re.sub(r\"\\b(n+a+h+)\\b\", \"no\", x)\n",
    "\n",
    "    # Handling special cases of text\n",
    "    x = re.sub(r\"h a m b e r d e r s\", \"hamberders\", x)\n",
    "    x = re.sub(r\"b e n\", \"ben\", x)\n",
    "    x = re.sub(r\"s a t i r e\", \"satire\", x)\n",
    "    x = re.sub(r\"y i k e s\", \"yikes\", x)\n",
    "    x = re.sub(r\"s p o i l e r\", \"spoiler\", x)\n",
    "    x = re.sub(r\"thankyou\", \"thank you\", x)\n",
    "    x = re.sub(r\"a^r^o^o^o^o^o^o^o^n^d\", \"around\", x)\n",
    "\n",
    "    # Remove special characters and numbers replace by space + remove double space\n",
    "    x = re.sub(r\"\\b([.]{3,})\",\" dots \", x)\n",
    "    x = re.sub(r\"[^A-Za-z!?_]+\",\" \", x)\n",
    "    x = re.sub(r\"\\b([s])\\b *\",\"\", x)\n",
    "    x = re.sub(r\" +\",\" \", x)\n",
    "    x = x.strip()\n",
    "\n",
    "    return x"
   ]
  },
  {
   "cell_type": "code",
   "execution_count": 48,
   "metadata": {
    "id": "3VAB3U_K46Wz"
   },
   "outputs": [],
   "source": [
    "def predict_samples(text_samples, model):\n",
    "\n",
    "    # Text preprocessing and cleaning\n",
    "    text_samples = pd.Series(text_samples)\n",
    "    text_samples_clean = text_samples.apply(preprocess_data)\n",
    "\n",
    "    # Create tfidf representation\n",
    "    tfidf_text_samples_clean = vectorizer.transform(text_samples_clean)\n",
    "\n",
    "    # labels predictions\n",
    "    samples_pred_labels = model.predict(tfidf_text_samples_clean)\n",
    "    samples_pred_labels_df = pd.DataFrame(samples_pred_labels)\n",
    "    samples_pred_labels_df = samples_pred_labels_df.apply(lambda x: [emotion[i] for i in range(len(x)) if x[i]==1], axis=1)\n",
    "\n",
    "    return pd.DataFrame({\"Text\":text_samples, \"Emotions\":list(samples_pred_labels_df)})"
   ]
  },
  {
   "cell_type": "markdown",
   "metadata": {
    "id": "WBnRiDhf6DP7"
   },
   "source": [
    "Evaluation and Prediction testing"
   ]
  },
  {
   "cell_type": "code",
   "execution_count": 49,
   "metadata": {
    "id": "NKVH65a-46W0",
    "outputId": "23add23d-7fb7-4fa3-afde-defd99fd2582"
   },
   "outputs": [
    {
     "data": {
      "text/html": [
       "<div>\n",
       "<style scoped>\n",
       "    .dataframe tbody tr th:only-of-type {\n",
       "        vertical-align: middle;\n",
       "    }\n",
       "\n",
       "    .dataframe tbody tr th {\n",
       "        vertical-align: top;\n",
       "    }\n",
       "\n",
       "    .dataframe thead th {\n",
       "        text-align: right;\n",
       "    }\n",
       "</style>\n",
       "<table border=\"1\" class=\"dataframe\">\n",
       "  <thead>\n",
       "    <tr style=\"text-align: right;\">\n",
       "      <th></th>\n",
       "      <th>Text</th>\n",
       "      <th>Emotions</th>\n",
       "    </tr>\n",
       "  </thead>\n",
       "  <tbody>\n",
       "    <tr>\n",
       "      <th>0</th>\n",
       "      <td>Was it about my model?</td>\n",
       "      <td>[fear]</td>\n",
       "    </tr>\n",
       "  </tbody>\n",
       "</table>\n",
       "</div>"
      ],
      "text/plain": [
       "                     Text Emotions\n",
       "0  Was it about my model?   [fear]"
      ]
     },
     "execution_count": 49,
     "metadata": {},
     "output_type": "execute_result"
    }
   ],
   "source": [
    "# Predict samples\n",
    "predict_samples(\"Was it about my model?\", classifier)"
   ]
  },
  {
   "cell_type": "code",
   "execution_count": 50,
   "metadata": {},
   "outputs": [
    {
     "data": {
      "text/html": [
       "<div>\n",
       "<style scoped>\n",
       "    .dataframe tbody tr th:only-of-type {\n",
       "        vertical-align: middle;\n",
       "    }\n",
       "\n",
       "    .dataframe tbody tr th {\n",
       "        vertical-align: top;\n",
       "    }\n",
       "\n",
       "    .dataframe thead th {\n",
       "        text-align: right;\n",
       "    }\n",
       "</style>\n",
       "<table border=\"1\" class=\"dataframe\">\n",
       "  <thead>\n",
       "    <tr style=\"text-align: right;\">\n",
       "      <th></th>\n",
       "      <th>Text</th>\n",
       "      <th>Emotions</th>\n",
       "    </tr>\n",
       "  </thead>\n",
       "  <tbody>\n",
       "    <tr>\n",
       "      <th>0</th>\n",
       "      <td>I am so happy today</td>\n",
       "      <td>[joy, sadness]</td>\n",
       "    </tr>\n",
       "    <tr>\n",
       "      <th>1</th>\n",
       "      <td>I am feeling very sad</td>\n",
       "      <td>[fear, sadness]</td>\n",
       "    </tr>\n",
       "    <tr>\n",
       "      <th>2</th>\n",
       "      <td>I am feeling very angry</td>\n",
       "      <td>[anger, fear]</td>\n",
       "    </tr>\n",
       "    <tr>\n",
       "      <th>3</th>\n",
       "      <td>I am feeling very surprised</td>\n",
       "      <td>[fear]</td>\n",
       "    </tr>\n",
       "    <tr>\n",
       "      <th>4</th>\n",
       "      <td>I am feeling very fearful</td>\n",
       "      <td>[fear]</td>\n",
       "    </tr>\n",
       "  </tbody>\n",
       "</table>\n",
       "</div>"
      ],
      "text/plain": [
       "                          Text         Emotions\n",
       "0          I am so happy today   [joy, sadness]\n",
       "1        I am feeling very sad  [fear, sadness]\n",
       "2      I am feeling very angry    [anger, fear]\n",
       "3  I am feeling very surprised           [fear]\n",
       "4    I am feeling very fearful           [fear]"
      ]
     },
     "execution_count": 50,
     "metadata": {},
     "output_type": "execute_result"
    }
   ],
   "source": [
    "# Predict samples for paragraph\n",
    "text_samples = [\"I am so happy today\", \"I am feeling very sad\", \"I am feeling very angry\", \"I am feeling very surprised\", \"I am feeling very fearful\"]\n",
    "predict_samples(text_samples, classifier)\n",
    "\n"
   ]
  }
 ],
 "metadata": {
  "colab": {
   "provenance": []
  },
  "kernelspec": {
   "display_name": "Python 3",
   "language": "python",
   "name": "python3"
  },
  "language_info": {
   "codemirror_mode": {
    "name": "ipython",
    "version": 3
   },
   "file_extension": ".py",
   "mimetype": "text/x-python",
   "name": "python",
   "nbconvert_exporter": "python",
   "pygments_lexer": "ipython3",
   "version": "3.12.4"
  }
 },
 "nbformat": 4,
 "nbformat_minor": 0
}
